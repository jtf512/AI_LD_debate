{
 "cells": [
  {
   "cell_type": "markdown",
   "metadata": {},
   "source": [
    "Our objective with this notebook is to construct two \"AI Agents\" to argue a debate resolution in the traditional Lincoln-Douglas debate format. We're going to focus on using Anthropic Claude for the LLM, Cohere for embeddings, and LangChain to coordinate prompts, etc. "
   ]
  },
  {
   "cell_type": "markdown",
   "metadata": {},
   "source": [
    "Let's first decide on a topic and debate resolution our agents will argue. We can choose a deep, philosophical or political topic, or something light like a product purchase decision."
   ]
  },
  {
   "cell_type": "code",
   "execution_count": 2,
   "metadata": {},
   "outputs": [],
   "source": [
    "topic = 'artificial intelligence'\n",
    "debate_resolution = 'Artificial intelligence will never be able to replace human creativity.'"
   ]
  },
  {
   "cell_type": "code",
   "execution_count": 3,
   "metadata": {},
   "outputs": [
    {
     "name": "stdout",
     "output_type": "stream",
     "text": [
      "Environment variables loaded successfully\n"
     ]
    }
   ],
   "source": [
    "import os\n",
    "from dotenv import load_dotenv\n",
    "path='../.env' # we'll load our api keys from a .env file\n",
    "try:\n",
    "    load_dotenv(dotenv_path=path)\n",
    "    print(\"Environment variables loaded successfully\")\n",
    "except Exception as e:\n",
    "    print(f\"Error loading .env file: {str(e)}\")\n",
    "\n",
    "import pandas as pd"
   ]
  },
  {
   "cell_type": "markdown",
   "metadata": {},
   "source": [
    "For this notebook, all our topic research will come from the top 10 YouTube videos from a topic query. "
   ]
  },
  {
   "cell_type": "code",
   "execution_count": 4,
   "metadata": {},
   "outputs": [
    {
     "data": {
      "text/html": [
       "<div>\n",
       "<style scoped>\n",
       "    .dataframe tbody tr th:only-of-type {\n",
       "        vertical-align: middle;\n",
       "    }\n",
       "\n",
       "    .dataframe tbody tr th {\n",
       "        vertical-align: top;\n",
       "    }\n",
       "\n",
       "    .dataframe thead th {\n",
       "        text-align: right;\n",
       "    }\n",
       "</style>\n",
       "<table border=\"1\" class=\"dataframe\">\n",
       "  <thead>\n",
       "    <tr style=\"text-align: right;\">\n",
       "      <th></th>\n",
       "      <th>id</th>\n",
       "      <th>thumbnails</th>\n",
       "      <th>title</th>\n",
       "      <th>long_desc</th>\n",
       "      <th>channel</th>\n",
       "      <th>duration</th>\n",
       "      <th>views</th>\n",
       "      <th>publish_time</th>\n",
       "      <th>url_suffix</th>\n",
       "    </tr>\n",
       "  </thead>\n",
       "  <tbody>\n",
       "    <tr>\n",
       "      <th>0</th>\n",
       "      <td>akXMYvKjUxM</td>\n",
       "      <td>[https://i.ytimg.com/vi/akXMYvKjUxM/hq720.jpg?...</td>\n",
       "      <td>Elon Musk on AGI Safety, Superintelligence, an...</td>\n",
       "      <td>None</td>\n",
       "      <td>Peter H. Diamandis</td>\n",
       "      <td>30:28</td>\n",
       "      <td>42,564 views</td>\n",
       "      <td>1 day ago</td>\n",
       "      <td>/watch?v=akXMYvKjUxM&amp;pp=ygUXYXJ0aWZpY2lhbCBpbn...</td>\n",
       "    </tr>\n",
       "    <tr>\n",
       "      <th>1</th>\n",
       "      <td>VAtoqAQ2aEg</td>\n",
       "      <td>[https://i.ytimg.com/vi/VAtoqAQ2aEg/hq720.jpg?...</td>\n",
       "      <td>The Race For AI Robots Just Got Real (OpenAI, ...</td>\n",
       "      <td>None</td>\n",
       "      <td>ColdFusion</td>\n",
       "      <td>21:26</td>\n",
       "      <td>688,860 views</td>\n",
       "      <td>1 day ago</td>\n",
       "      <td>/watch?v=VAtoqAQ2aEg&amp;pp=ygUXYXJ0aWZpY2lhbCBpbn...</td>\n",
       "    </tr>\n",
       "    <tr>\n",
       "      <th>2</th>\n",
       "      <td>aZ5EsdnpLMI</td>\n",
       "      <td>[https://i.ytimg.com/vi/aZ5EsdnpLMI/hq720.jpg?...</td>\n",
       "      <td>Artificial Intelligence | 60 Minutes Full Epis...</td>\n",
       "      <td>None</td>\n",
       "      <td>60 Minutes</td>\n",
       "      <td>53:30</td>\n",
       "      <td>5,078,008 views</td>\n",
       "      <td>2 months ago</td>\n",
       "      <td>/watch?v=aZ5EsdnpLMI&amp;pp=ygUXYXJ0aWZpY2lhbCBpbn...</td>\n",
       "    </tr>\n",
       "    <tr>\n",
       "      <th>3</th>\n",
       "      <td>_6R7Ym6Vy_I</td>\n",
       "      <td>[https://i.ytimg.com/vi/_6R7Ym6Vy_I/hq720.jpg?...</td>\n",
       "      <td>What is generative AI and how does it work? – ...</td>\n",
       "      <td>None</td>\n",
       "      <td>The Royal Institution</td>\n",
       "      <td>46:02</td>\n",
       "      <td>631,586 views</td>\n",
       "      <td>5 months ago</td>\n",
       "      <td>/watch?v=_6R7Ym6Vy_I&amp;pp=ygUXYXJ0aWZpY2lhbCBpbn...</td>\n",
       "    </tr>\n",
       "    <tr>\n",
       "      <th>4</th>\n",
       "      <td>z7-fPFtgRE4</td>\n",
       "      <td>[https://i.ytimg.com/vi/z7-fPFtgRE4/hq720.jpg?...</td>\n",
       "      <td>Generative AI is just the Beginning AI Agents ...</td>\n",
       "      <td>None</td>\n",
       "      <td>TEDx Talks</td>\n",
       "      <td>13:16</td>\n",
       "      <td>44,940 views</td>\n",
       "      <td>6 days ago</td>\n",
       "      <td>/watch?v=z7-fPFtgRE4&amp;pp=ygUXYXJ0aWZpY2lhbCBpbn...</td>\n",
       "    </tr>\n",
       "    <tr>\n",
       "      <th>5</th>\n",
       "      <td>Le122vas9aM</td>\n",
       "      <td>[https://i.ytimg.com/vi/Le122vas9aM/hq720.jpg?...</td>\n",
       "      <td>AI supremacy: The artificial intelligence batt...</td>\n",
       "      <td>None</td>\n",
       "      <td>DW Documentary</td>\n",
       "      <td>1:28:33</td>\n",
       "      <td>391,431 views</td>\n",
       "      <td>10 days ago</td>\n",
       "      <td>/watch?v=Le122vas9aM&amp;pp=ygUXYXJ0aWZpY2lhbCBpbn...</td>\n",
       "    </tr>\n",
       "    <tr>\n",
       "      <th>6</th>\n",
       "      <td>Sqa8Zo2XWc4</td>\n",
       "      <td>[https://i.ytimg.com/vi/Sqa8Zo2XWc4/hq720.jpg?...</td>\n",
       "      <td>Artificial Intelligence: Last Week Tonight wit...</td>\n",
       "      <td>None</td>\n",
       "      <td>LastWeekTonight</td>\n",
       "      <td>27:53</td>\n",
       "      <td>10,024,355 views</td>\n",
       "      <td>1 year ago</td>\n",
       "      <td>/watch?v=Sqa8Zo2XWc4&amp;pp=ygUXYXJ0aWZpY2lhbCBpbn...</td>\n",
       "    </tr>\n",
       "    <tr>\n",
       "      <th>7</th>\n",
       "      <td>zrjPjKfIrdE</td>\n",
       "      <td>[https://i.ytimg.com/vi/zrjPjKfIrdE/hq720.jpg?...</td>\n",
       "      <td>Artificial Intelligence? Threat to Islam?</td>\n",
       "      <td>None</td>\n",
       "      <td>Irfan Malik</td>\n",
       "      <td>12:59</td>\n",
       "      <td>329 views</td>\n",
       "      <td>19 minutes ago</td>\n",
       "      <td>/watch?v=zrjPjKfIrdE&amp;pp=ygUXYXJ0aWZpY2lhbCBpbn...</td>\n",
       "    </tr>\n",
       "    <tr>\n",
       "      <th>8</th>\n",
       "      <td>ad79nYk2keg</td>\n",
       "      <td>[https://i.ytimg.com/vi/ad79nYk2keg/hq720.jpg?...</td>\n",
       "      <td>What Is AI? | Artificial Intelligence | What i...</td>\n",
       "      <td>None</td>\n",
       "      <td>Simplilearn</td>\n",
       "      <td>5:28</td>\n",
       "      <td>2,001,547 views</td>\n",
       "      <td>4 years ago</td>\n",
       "      <td>/watch?v=ad79nYk2keg&amp;pp=ygUXYXJ0aWZpY2lhbCBpbn...</td>\n",
       "    </tr>\n",
       "    <tr>\n",
       "      <th>9</th>\n",
       "      <td>oR0sC-Xl_HQ</td>\n",
       "      <td>[https://i.ytimg.com/vi/oR0sC-Xl_HQ/hq720.jpg?...</td>\n",
       "      <td>NPTEL An Introduction to Artificial Intelligen...</td>\n",
       "      <td>None</td>\n",
       "      <td>Raju V</td>\n",
       "      <td>0:30</td>\n",
       "      <td>579 views</td>\n",
       "      <td>22 hours ago</td>\n",
       "      <td>/watch?v=oR0sC-Xl_HQ&amp;pp=ygUXYXJ0aWZpY2lhbCBpbn...</td>\n",
       "    </tr>\n",
       "  </tbody>\n",
       "</table>\n",
       "</div>"
      ],
      "text/plain": [
       "            id                                         thumbnails  \\\n",
       "0  akXMYvKjUxM  [https://i.ytimg.com/vi/akXMYvKjUxM/hq720.jpg?...   \n",
       "1  VAtoqAQ2aEg  [https://i.ytimg.com/vi/VAtoqAQ2aEg/hq720.jpg?...   \n",
       "2  aZ5EsdnpLMI  [https://i.ytimg.com/vi/aZ5EsdnpLMI/hq720.jpg?...   \n",
       "3  _6R7Ym6Vy_I  [https://i.ytimg.com/vi/_6R7Ym6Vy_I/hq720.jpg?...   \n",
       "4  z7-fPFtgRE4  [https://i.ytimg.com/vi/z7-fPFtgRE4/hq720.jpg?...   \n",
       "5  Le122vas9aM  [https://i.ytimg.com/vi/Le122vas9aM/hq720.jpg?...   \n",
       "6  Sqa8Zo2XWc4  [https://i.ytimg.com/vi/Sqa8Zo2XWc4/hq720.jpg?...   \n",
       "7  zrjPjKfIrdE  [https://i.ytimg.com/vi/zrjPjKfIrdE/hq720.jpg?...   \n",
       "8  ad79nYk2keg  [https://i.ytimg.com/vi/ad79nYk2keg/hq720.jpg?...   \n",
       "9  oR0sC-Xl_HQ  [https://i.ytimg.com/vi/oR0sC-Xl_HQ/hq720.jpg?...   \n",
       "\n",
       "                                               title long_desc  \\\n",
       "0  Elon Musk on AGI Safety, Superintelligence, an...      None   \n",
       "1  The Race For AI Robots Just Got Real (OpenAI, ...      None   \n",
       "2  Artificial Intelligence | 60 Minutes Full Epis...      None   \n",
       "3  What is generative AI and how does it work? – ...      None   \n",
       "4  Generative AI is just the Beginning AI Agents ...      None   \n",
       "5  AI supremacy: The artificial intelligence batt...      None   \n",
       "6  Artificial Intelligence: Last Week Tonight wit...      None   \n",
       "7          Artificial Intelligence? Threat to Islam?      None   \n",
       "8  What Is AI? | Artificial Intelligence | What i...      None   \n",
       "9  NPTEL An Introduction to Artificial Intelligen...      None   \n",
       "\n",
       "                 channel duration             views    publish_time  \\\n",
       "0     Peter H. Diamandis    30:28      42,564 views       1 day ago   \n",
       "1             ColdFusion    21:26     688,860 views       1 day ago   \n",
       "2             60 Minutes    53:30   5,078,008 views    2 months ago   \n",
       "3  The Royal Institution    46:02     631,586 views    5 months ago   \n",
       "4             TEDx Talks    13:16      44,940 views      6 days ago   \n",
       "5         DW Documentary  1:28:33     391,431 views     10 days ago   \n",
       "6        LastWeekTonight    27:53  10,024,355 views      1 year ago   \n",
       "7            Irfan Malik    12:59         329 views  19 minutes ago   \n",
       "8            Simplilearn     5:28   2,001,547 views     4 years ago   \n",
       "9                 Raju V     0:30         579 views    22 hours ago   \n",
       "\n",
       "                                          url_suffix  \n",
       "0  /watch?v=akXMYvKjUxM&pp=ygUXYXJ0aWZpY2lhbCBpbn...  \n",
       "1  /watch?v=VAtoqAQ2aEg&pp=ygUXYXJ0aWZpY2lhbCBpbn...  \n",
       "2  /watch?v=aZ5EsdnpLMI&pp=ygUXYXJ0aWZpY2lhbCBpbn...  \n",
       "3  /watch?v=_6R7Ym6Vy_I&pp=ygUXYXJ0aWZpY2lhbCBpbn...  \n",
       "4  /watch?v=z7-fPFtgRE4&pp=ygUXYXJ0aWZpY2lhbCBpbn...  \n",
       "5  /watch?v=Le122vas9aM&pp=ygUXYXJ0aWZpY2lhbCBpbn...  \n",
       "6  /watch?v=Sqa8Zo2XWc4&pp=ygUXYXJ0aWZpY2lhbCBpbn...  \n",
       "7  /watch?v=zrjPjKfIrdE&pp=ygUXYXJ0aWZpY2lhbCBpbn...  \n",
       "8  /watch?v=ad79nYk2keg&pp=ygUXYXJ0aWZpY2lhbCBpbn...  \n",
       "9  /watch?v=oR0sC-Xl_HQ&pp=ygUXYXJ0aWZpY2lhbCBpbn...  "
      ]
     },
     "execution_count": 4,
     "metadata": {},
     "output_type": "execute_result"
    }
   ],
   "source": [
    "from youtube_search import YoutubeSearch\n",
    "\n",
    "results = YoutubeSearch(topic, max_results=10).to_dict()\n",
    "df = pd.DataFrame(results)\n",
    "df.head(10)"
   ]
  },
  {
   "cell_type": "code",
   "execution_count": 5,
   "metadata": {},
   "outputs": [],
   "source": [
    "from datetime import date\n",
    "today = date.today()\n",
    "today = today.strftime(\"%Y-%m-%d\")\n",
    "today\n",
    "\n",
    "df.to_csv(f'YouTube_query_results-{topic}_{today}.csv', index=False)"
   ]
  },
  {
   "cell_type": "markdown",
   "metadata": {},
   "source": [
    "Now let's download the audio and transcribe these videos. For this, we'll use a transcription API called Rev AI. In this version, we'll download the audio files locally and use Rev's python SDK to post them for transcription, but if we were to scale this, we'd use a cloud storage like S3 and send Rev's API signed URLs instead."
   ]
  },
  {
   "cell_type": "code",
   "execution_count": 6,
   "metadata": {},
   "outputs": [],
   "source": [
    "import os\n",
    "import time\n",
    "import json\n",
    "from rev_ai import apiclient\n",
    "import os\n",
    "import subprocess\n",
    "\n",
    "def download_youtube_audio(video_id):\n",
    "    # Ensure the 'audio' directory exists\n",
    "    audio_dir = 'audio'\n",
    "    os.makedirs(audio_dir, exist_ok=True)\n",
    "    \n",
    "    audio_path = os.path.join(audio_dir, f\"{video_id}.mp3\")\n",
    "    \n",
    "    # Check if the audio file already exists\n",
    "    if os.path.isfile(audio_path):\n",
    "        print(f\"Audio for video ID {video_id} already exists at {audio_path}.\")\n",
    "        return audio_path\n",
    "    \n",
    "    # Construct the YouTube URL\n",
    "    youtube_url = f\"https://www.youtube.com/watch?v={video_id}\"\n",
    "    \n",
    "    # Command to download the audio\n",
    "    command = [\n",
    "        \"yt-dlp\",\n",
    "        \"-x\",  # Extract audio\n",
    "        \"--audio-format\", \"mp3\",  # Specify audio format\n",
    "        \"-o\", audio_path,  # Output path\n",
    "        youtube_url  # YouTube video URL\n",
    "    ]\n",
    "    \n",
    "    try:\n",
    "        # Execute the command\n",
    "        result = subprocess.run(command, check=True, stdout=subprocess.PIPE, stderr=subprocess.PIPE)\n",
    "        print(f\"Downloaded audio for video ID {video_id} successfully.\")\n",
    "        return audio_path\n",
    "    except subprocess.CalledProcessError as e:\n",
    "        print(f\"Error downloading audio for video ID {video_id}: {e.stderr.decode()}\")\n",
    "        return None\n",
    "\n",
    "def check_transcript_exists(video_id):\n",
    "    transcript_path = os.path.join('transcripts', f'{video_id}.txt')\n",
    "    return os.path.exists(transcript_path)\n",
    "\n",
    "def ensure_folder_exists(folder_path):\n",
    "    if not os.path.exists(folder_path):\n",
    "        os.makedirs(folder_path)\n",
    "\n",
    "def save_transcript_json(video_id, transcript):\n",
    "    ensure_folder_exists('transcripts')\n",
    "    file_path = f'transcripts/{video_id}.json'\n",
    "    with open(file_path, 'w') as file:\n",
    "        json.dump(transcript, file)\n",
    "\n",
    "def save_transcript_text(video_id, transcript):\n",
    "    ensure_folder_exists('transcripts')\n",
    "    file_path = f'transcripts/{video_id}.txt'\n",
    "    with open(file_path, 'w') as file:\n",
    "        file.write(transcript)\n",
    "        \n",
    "\n",
    "def submit_job_and_get_transcripts(video_id, access_token):\n",
    "    if check_transcript_exists(video_id):\n",
    "        print(f\"Transcript for video ID {video_id} already exists. Skipping...\")\n",
    "        return\n",
    "    \n",
    "    audio_dir = 'audio'\n",
    "    audio_path = os.path.join(audio_dir, f\"{video_id}.mp3\")\n",
    "    \n",
    "    if not os.path.exists(audio_path):\n",
    "        print(f\"Audio file for video ID {video_id} does not exist. Downloading...\")\n",
    "        audio_file_path = download_youtube_audio(video_id)\n",
    "        if audio_file_path:\n",
    "            print(f\"Audio file saved to: {audio_file_path}\")\n",
    "    else:\n",
    "        audio_file_path = audio_path\n",
    "\n",
    "    client = apiclient.RevAiAPIClient(access_token)\n",
    "    job = client.submit_job_local_file(audio_file_path)\n",
    "\n",
    "    while True:\n",
    "        try:\n",
    "            time.sleep(30)  # Wait for 30 seconds before checking job status again\n",
    "            job_details = client.get_job_details(job.id)\n",
    "            job_status = job_details.status.name\n",
    "            print(f\"Job status for video ID {video_id}: {job_status}\")\n",
    "\n",
    "            if job_status == \"TRANSCRIBED\" or job_status == \"COMPLETE\":\n",
    "                transcript_json = client.get_transcript_json(job.id)\n",
    "                save_transcript_json(video_id, transcript_json)\n",
    "                transcript_text = client.get_transcript_text(job.id)\n",
    "                save_transcript_text(video_id, transcript_text)\n",
    "                print(f\"Transcript for video ID {video_id} retrieved and saved.\")\n",
    "                break\n",
    "            elif job_status == \"IN_PROGRESS\":\n",
    "                continue  # Explicitly continue looping if job is IN_PROGRESS\n",
    "            else:\n",
    "                print(f\"Job for video ID {video_id} ended with status: {job_status}\")\n",
    "                return\n",
    "        except Exception as e:\n",
    "            print(f\"Unexpected error during job status check or transcript retrieval: {e}\")\n",
    "            return"
   ]
  },
  {
   "cell_type": "markdown",
   "metadata": {},
   "source": [
    "This could take a while to run depending on the length of the videos, so a good time to grab a coffee warmup ... "
   ]
  },
  {
   "cell_type": "code",
   "execution_count": 7,
   "metadata": {},
   "outputs": [
    {
     "name": "stdout",
     "output_type": "stream",
     "text": [
      "Audio file for video ID akXMYvKjUxM does not exist. Downloading...\n",
      "Downloaded audio for video ID akXMYvKjUxM successfully.\n",
      "Audio file saved to: audio/akXMYvKjUxM.mp3\n",
      "Job status for video ID akXMYvKjUxM: IN_PROGRESS\n",
      "Job status for video ID akXMYvKjUxM: IN_PROGRESS\n",
      "Job status for video ID akXMYvKjUxM: TRANSCRIBED\n",
      "Transcript for video ID akXMYvKjUxM retrieved and saved.\n",
      "Audio file for video ID VAtoqAQ2aEg does not exist. Downloading...\n",
      "Downloaded audio for video ID VAtoqAQ2aEg successfully.\n",
      "Audio file saved to: audio/VAtoqAQ2aEg.mp3\n",
      "Job status for video ID VAtoqAQ2aEg: IN_PROGRESS\n",
      "Job status for video ID VAtoqAQ2aEg: IN_PROGRESS\n",
      "Job status for video ID VAtoqAQ2aEg: TRANSCRIBED\n",
      "Transcript for video ID VAtoqAQ2aEg retrieved and saved.\n",
      "Audio file for video ID aZ5EsdnpLMI does not exist. Downloading...\n",
      "Downloaded audio for video ID aZ5EsdnpLMI successfully.\n",
      "Audio file saved to: audio/aZ5EsdnpLMI.mp3\n",
      "Job status for video ID aZ5EsdnpLMI: IN_PROGRESS\n",
      "Job status for video ID aZ5EsdnpLMI: IN_PROGRESS\n",
      "Job status for video ID aZ5EsdnpLMI: TRANSCRIBED\n",
      "Transcript for video ID aZ5EsdnpLMI retrieved and saved.\n",
      "Audio file for video ID _6R7Ym6Vy_I does not exist. Downloading...\n",
      "Downloaded audio for video ID _6R7Ym6Vy_I successfully.\n",
      "Audio file saved to: audio/_6R7Ym6Vy_I.mp3\n",
      "Job status for video ID _6R7Ym6Vy_I: IN_PROGRESS\n",
      "Job status for video ID _6R7Ym6Vy_I: IN_PROGRESS\n",
      "Job status for video ID _6R7Ym6Vy_I: TRANSCRIBED\n",
      "Transcript for video ID _6R7Ym6Vy_I retrieved and saved.\n",
      "Audio file for video ID z7-fPFtgRE4 does not exist. Downloading...\n",
      "Downloaded audio for video ID z7-fPFtgRE4 successfully.\n",
      "Audio file saved to: audio/z7-fPFtgRE4.mp3\n",
      "Job status for video ID z7-fPFtgRE4: IN_PROGRESS\n",
      "Job status for video ID z7-fPFtgRE4: IN_PROGRESS\n",
      "Job status for video ID z7-fPFtgRE4: TRANSCRIBED\n",
      "Transcript for video ID z7-fPFtgRE4 retrieved and saved.\n",
      "Audio file for video ID Le122vas9aM does not exist. Downloading...\n",
      "Downloaded audio for video ID Le122vas9aM successfully.\n",
      "Audio file saved to: audio/Le122vas9aM.mp3\n",
      "Job status for video ID Le122vas9aM: IN_PROGRESS\n",
      "Job status for video ID Le122vas9aM: IN_PROGRESS\n",
      "Job status for video ID Le122vas9aM: IN_PROGRESS\n",
      "Job status for video ID Le122vas9aM: TRANSCRIBED\n",
      "Transcript for video ID Le122vas9aM retrieved and saved.\n",
      "Audio file for video ID Sqa8Zo2XWc4 does not exist. Downloading...\n",
      "Downloaded audio for video ID Sqa8Zo2XWc4 successfully.\n",
      "Audio file saved to: audio/Sqa8Zo2XWc4.mp3\n",
      "Job status for video ID Sqa8Zo2XWc4: IN_PROGRESS\n",
      "Job status for video ID Sqa8Zo2XWc4: IN_PROGRESS\n",
      "Job status for video ID Sqa8Zo2XWc4: TRANSCRIBED\n",
      "Transcript for video ID Sqa8Zo2XWc4 retrieved and saved.\n",
      "Audio file for video ID zrjPjKfIrdE does not exist. Downloading...\n",
      "Downloaded audio for video ID zrjPjKfIrdE successfully.\n",
      "Audio file saved to: audio/zrjPjKfIrdE.mp3\n",
      "Job status for video ID zrjPjKfIrdE: IN_PROGRESS\n",
      "Job status for video ID zrjPjKfIrdE: IN_PROGRESS\n",
      "Job status for video ID zrjPjKfIrdE: TRANSCRIBED\n",
      "Transcript for video ID zrjPjKfIrdE retrieved and saved.\n",
      "Audio file for video ID ad79nYk2keg does not exist. Downloading...\n",
      "Downloaded audio for video ID ad79nYk2keg successfully.\n",
      "Audio file saved to: audio/ad79nYk2keg.mp3\n",
      "Job status for video ID ad79nYk2keg: IN_PROGRESS\n",
      "Job status for video ID ad79nYk2keg: TRANSCRIBED\n",
      "Transcript for video ID ad79nYk2keg retrieved and saved.\n",
      "Audio file for video ID oR0sC-Xl_HQ does not exist. Downloading...\n",
      "Downloaded audio for video ID oR0sC-Xl_HQ successfully.\n",
      "Audio file saved to: audio/oR0sC-Xl_HQ.mp3\n",
      "Job status for video ID oR0sC-Xl_HQ: TRANSCRIBED\n",
      "Transcript for video ID oR0sC-Xl_HQ retrieved and saved.\n"
     ]
    }
   ],
   "source": [
    "for index, row in df.iterrows():\n",
    "    video_id = row['id']\n",
    "    submit_job_and_get_transcripts(video_id, os.getenv(\"REV_API\"))"
   ]
  },
  {
   "cell_type": "markdown",
   "metadata": {},
   "source": [
    "Now that we have the transcripts, we need to split them up into LangChain 'Document' chunks to feed the LLM. In this case, we'll use the ASR's diarization to our advantage and build a custom splitter based on that output."
   ]
  },
  {
   "cell_type": "code",
   "execution_count": 9,
   "metadata": {},
   "outputs": [],
   "source": [
    "import re\n",
    "\n",
    "class SpeakerTextSplitter:\n",
    "    def __init__(self):\n",
    "        # Compile a regex pattern to match lines starting with \"Speaker [number]\"\n",
    "        self.pattern = re.compile(r'^Speaker \\d+', re.MULTILINE)\n",
    "    \n",
    "    def split_text(self, text):\n",
    "        # Find all matches; each match object includes the start index of each speaker section\n",
    "        matches = list(self.pattern.finditer(text))\n",
    "        if not matches:\n",
    "            return [{\"page_content\": text}]  # Return the whole text as a single document if no speakers found\n",
    "        \n",
    "        # Split text by speaker, using the start indices from the matches\n",
    "        splits = []\n",
    "        for i in range(len(matches)):\n",
    "            start = matches[i].start()\n",
    "            end = matches[i + 1].start() if i + 1 < len(matches) else len(text)\n",
    "            segment = text[start:end].strip()\n",
    "            splits.append({\"page_content\": segment})\n",
    "        \n",
    "        return splits"
   ]
  },
  {
   "cell_type": "markdown",
   "metadata": {},
   "source": [
    "Now we'll initialize our LLM - in this case, we're using Anthropic's Claude."
   ]
  },
  {
   "cell_type": "code",
   "execution_count": 8,
   "metadata": {},
   "outputs": [],
   "source": [
    "from langchain_anthropic import ChatAnthropic\n",
    "\n",
    "llm = ChatAnthropic(anthropic_api_key=os.getenv(\"ANTHROPIC_KEY\"), model=\"claude-3-sonnet-20240229\", temperature=0.2, max_tokens=1024)"
   ]
  },
  {
   "cell_type": "markdown",
   "metadata": {},
   "source": [
    "Our first prompt will be focused on generating questions from each video transcript. Each video might inspire unique questions that could be asked of the content of the other videos. \n",
    "\n",
    "This is similar to how a debator would research a topic - they would look at some initial material to determine what might be important to know in order to build their argument. Each piece will inspire a fundamental question that, when asked of another source, could generate a unique insight. "
   ]
  },
  {
   "cell_type": "code",
   "execution_count": 11,
   "metadata": {},
   "outputs": [],
   "source": [
    "from langchain_core.prompts import ChatPromptTemplate\n",
    "\n",
    "questions_prompt = ChatPromptTemplate.from_template(\"\"\"Answer the following prompt based only on the provided context, \n",
    "                                          and format the response as only a comma-separated list of strings. \n",
    "                                          \n",
    "                Here is an example of how to format your response:\n",
    "    \n",
    "    [\"What are the primary benefits?\", \"How much does it cost?\", \"What are the risks of it?\"]\n",
    "                                          \n",
    "                Here is the context on which to base your response:\n",
    "\n",
    "<context>\n",
    "{context}\n",
    "</context>\n",
    "\n",
    "Prompt: {input}\"\"\")"
   ]
  },
  {
   "cell_type": "code",
   "execution_count": 12,
   "metadata": {},
   "outputs": [],
   "source": [
    "from langchain.chains.combine_documents import create_stuff_documents_chain\n",
    "\n",
    "questions_chain = create_stuff_documents_chain(llm, questions_prompt)"
   ]
  },
  {
   "cell_type": "code",
   "execution_count": 13,
   "metadata": {},
   "outputs": [],
   "source": [
    "from langchain_core.documents import Document\n",
    "\n",
    "splitter = SpeakerTextSplitter()\n",
    "\n",
    "def process_videos_to_questions(df, prompt_input):\n",
    "    master_list = [] \n",
    "\n",
    "    for index, row in df.iterrows():\n",
    "        video_id = row['id']\n",
    "        try:\n",
    "            # Read the transcript file for the current video\n",
    "            with open(f'transcripts/{video_id}.txt') as f:\n",
    "                transcript_text = f.read()\n",
    "\n",
    "            # Split the transcript into segments based on the ASR speaker diarization\n",
    "            split_segments = splitter.split_text(transcript_text)\n",
    "\n",
    "            # Prepare metadata for the YouTube video - this could come in handy for source attribution\n",
    "            youtube_metadata = {\n",
    "                \"id\": video_id,\n",
    "                \"title\": row['title'],\n",
    "                \"channel\": row['channel'],\n",
    "                \"duration\": row['duration'],\n",
    "                \"views\": row['views'],\n",
    "                \"publish_time\": row['publish_time'],\n",
    "            }\n",
    "\n",
    "            print(f\"Processing video ID {video_id} with title: {youtube_metadata['title']}\")\n",
    "\n",
    "            # Convert each segment into a Document object\n",
    "            documents = [Document(page_content=segment[\"page_content\"], metadata={\"youtube\": youtube_metadata}) for segment in split_segments]\n",
    "\n",
    "            # Process the documents through the questions_chain\n",
    "            response = questions_chain.invoke({\n",
    "                \"input\": prompt_input,\n",
    "                \"context\": documents\n",
    "            })\n",
    "\n",
    "            # Attempt to parse the response as JSON and append to master list\n",
    "            actual_list = json.loads(response)\n",
    "            # if actual_list is json serializable, print status and append to master list\n",
    "            if actual_list:\n",
    "                print(f\"Questions generated for video ID {video_id}: {actual_list}\")\n",
    "                master_list.extend(actual_list)  # Append the list of questions to the master list\n",
    "\n",
    "        except Exception as e:\n",
    "            print(f\"Error processing video {video_id}: {e}\")\n",
    "\n",
    "    return master_list"
   ]
  },
  {
   "cell_type": "markdown",
   "metadata": {},
   "source": [
    "Now we'll generate our initial list of questions from the perspective of each side of the debate. Both affirmative and negative get to generate questions that, when asked from a positional bias, could lead to helpful insights to build their arguments."
   ]
  },
  {
   "cell_type": "code",
   "execution_count": 14,
   "metadata": {},
   "outputs": [
    {
     "name": "stdout",
     "output_type": "stream",
     "text": [
      "Processing video ID akXMYvKjUxM with title: Elon Musk on AGI Safety, Superintelligence, and Neuralink (2024) | EP #91\n",
      "Questions generated for video ID akXMYvKjUxM: ['What are the unique aspects of human creativity that AI may struggle to replicate?', \"Are there inherent limitations in AI's ability to generate truly novel and original ideas?\", 'How does the human experience and emotional intelligence contribute to creative processes that AI may lack?', 'Can AI systems develop genuine self-awareness and consciousness, which some argue is essential for true creativity?', 'What are the potential risks of relying solely on AI for creative endeavors, such as lack of diversity or ethical considerations?']\n",
      "Processing video ID VAtoqAQ2aEg with title: The Race For AI Robots Just Got Real (OpenAI, NVIDIA and more)\n",
      "Questions generated for video ID VAtoqAQ2aEg: ['What aspects of human creativity are difficult to replicate with AI?', 'Are there unique qualities of the human mind that enable creativity that AI lacks?', 'Can AI truly generate novel and original ideas, or is it limited to recombining existing data?', \"How might AI's lack of subjective experiences and emotions hinder its creative abilities?\", 'What are the limitations of current AI models in tasks requiring open-ended creativity?']\n",
      "Processing video ID aZ5EsdnpLMI with title: Artificial Intelligence | 60 Minutes Full Episodes\n",
      "Questions generated for video ID aZ5EsdnpLMI: ['How does AI generate creative outputs like stories or art?', 'Is AI truly capable of original thought and imagination, or is it simply recombining existing data in novel ways?', 'Can AI develop genuine self-awareness and consciousness, which may be necessary for true creativity?', 'What are the fundamental limitations of current AI systems in terms of creativity and general intelligence?', 'Are there aspects of human creativity, such as emotional intelligence and intuition, that may be inherently difficult or impossible for AI to replicate?', 'How might continued advancements in AI potentially expand or redefine our understanding of creativity itself?']\n",
      "Processing video ID _6R7Ym6Vy_I with title: What is generative AI and how does it work? – The Turing Lectures with Mirella Lapata\n",
      "Questions generated for video ID _6R7Ym6Vy_I: ['What are the fundamental differences between human creativity and artificial intelligence?', 'Are there aspects of human creativity that are inherently difficult or impossible for AI to replicate?', 'What are the limitations of current AI systems in terms of generating truly novel and original ideas?', 'Can AI systems develop genuine self-awareness and consciousness, which may be essential for true creativity?', 'How does the training process and data used to develop AI systems constrain their creative potential?', 'Are there domains or types of creativity where humans will always maintain an advantage over AI?', 'What role does human intuition, emotion, and life experiences play in driving creativity, and can AI systems effectively emulate these factors?']\n",
      "Processing video ID z7-fPFtgRE4 with title: Generative AI is just the Beginning AI Agents are what Comes next | Daoud Abdel Hadi | TEDxPSUT\n",
      "Questions generated for video ID z7-fPFtgRE4: ['What are the key limitations of current AI systems in terms of creativity and innovation?', 'How does human intelligence differ from artificial intelligence in terms of cognitive abilities like intuition, emotional intelligence, and contextual understanding?', 'Can AI systems truly generate novel and original ideas, or are they limited to recombining existing information?', 'What role does human experience, culture, and personal perspectives play in driving creativity that AI may struggle to replicate?', 'Are there aspects of the creative process, such as serendipity, spontaneity, and non-linear thinking, that are inherently difficult for AI to emulate?', 'How might the lack of self-awareness, consciousness, and subjective experiences in AI systems hinder their ability to produce truly creative and meaningful works?']\n",
      "Processing video ID Le122vas9aM with title: AI supremacy: The artificial intelligence battle between China, USA and Europe | DW Documentary\n",
      "Questions generated for video ID Le122vas9aM: ['What unique qualities define human creativity that AI may struggle to replicate?', 'Are there aspects of human creativity rooted in emotion, intuition, or subjective experiences that AI cannot fully capture?', 'Can AI truly generate novel ideas and concepts, or is it limited to recombining existing data and patterns?', 'How might the unpredictable and spontaneous nature of human creativity pose challenges for AI systems?', 'What role does serendipity and happy accidents play in human creativity that AI may miss?', 'Can AI develop a genuine sense of curiosity, imagination, and desire for self-expression that drives human creativity?', \"Are there limitations in AI's ability to understand and appreciate cultural, historical, and personal contexts that shape human creativity?\", \"How might the lack of embodied experiences and physical interactions with the world hinder AI's capacity for creativity?\"]\n",
      "Processing video ID Sqa8Zo2XWc4 with title: Artificial Intelligence: Last Week Tonight with John Oliver (HBO)\n",
      "Questions generated for video ID Sqa8Zo2XWc4: ['What are the current limitations of AI in generating truly original and creative content?', 'How does the training data and methodology of AI systems inherently limit their ability to produce novel ideas and concepts?', 'Are there aspects of human creativity, such as emotional intelligence and personal experiences, that AI cannot replicate?', 'Can AI systems develop their own unique perspectives and worldviews, or are they limited to recombining existing data?', 'What are the potential risks of relying too heavily on AI for creative tasks, such as stifling human innovation and diversity of thought?']\n",
      "Processing video ID zrjPjKfIrdE with title: Artificial Intelligence? Threat to Islam?\n",
      "Questions generated for video ID zrjPjKfIrdE: ['What are the limitations of AI in generating truly novel and original ideas?', 'Can AI systems exhibit genuine creativity or are they limited to recombining existing data?', 'How does human consciousness and subjective experience contribute to creativity in ways that AI cannot replicate?', 'What role does intuition and serendipity play in human creativity that AI may struggle with?', 'Are there aspects of human creativity rooted in culture, emotion, and lived experiences that AI cannot fully capture?']\n",
      "Processing video ID ad79nYk2keg with title: What Is AI? | Artificial Intelligence | What is Artificial Intelligence? | AI In 5 Mins |Simplilearn\n",
      "Questions generated for video ID ad79nYk2keg: ['What are the current limitations of AI in terms of creativity and imagination?', 'Can AI truly generate novel ideas and concepts, or is it limited to recombining existing data?', 'How does the human capacity for emotion, intuition, and subjective experience influence creativity, and can AI replicate this?', 'Are there aspects of the creative process that rely on uniquely human traits like curiosity, intrinsic motivation, and open-ended exploration?', 'What are the potential risks of relying too heavily on AI for creative tasks, such as stifling human ingenuity or perpetuating biases?']\n",
      "Processing video ID oR0sC-Xl_HQ with title: NPTEL An Introduction to Artificial Intelligence Week 9 Assignment 9 Solutions Jan-Apr 2024 quiz 9\n",
      "Error processing video oR0sC-Xl_HQ: Expecting value: line 1 column 1 (char 0)\n",
      "Processing video ID akXMYvKjUxM with title: Elon Musk on AGI Safety, Superintelligence, and Neuralink (2024) | EP #91\n",
      "Questions generated for video ID akXMYvKjUxM: ['What are the current capabilities of AI in creative domains like art, music, and writing?', 'How does the creative process work in humans, and can AI systems replicate or augment that process?', 'Are there examples of AI-generated creative works that are indistinguishable from human-created works?', 'What are the limitations of current AI systems in terms of creativity and originality?', 'How might AI capabilities in creative domains evolve in the future as the technology advances?', 'Can AI systems exhibit true creativity and imagination, or are they limited to recombining existing data in novel ways?', 'What role might human-AI collaboration play in enhancing creativity and artistic expression?']\n",
      "Processing video ID VAtoqAQ2aEg with title: The Race For AI Robots Just Got Real (OpenAI, NVIDIA and more)\n",
      "Questions generated for video ID VAtoqAQ2aEg: ['What are the current capabilities of AI in generating creative works like art, music, and writing?', 'How do AI-generated creative works compare to human-generated works in terms of quality and novelty?', 'Can AI systems exhibit traits associated with human creativity, such as imagination, emotion, and personal experiences?', \"Are there limitations to AI's ability to replicate or surpass human creativity?\", 'How might AI augment or enhance human creativity rather than replace it entirely?']\n",
      "Processing video ID aZ5EsdnpLMI with title: Artificial Intelligence | 60 Minutes Full Episodes\n",
      "Questions generated for video ID aZ5EsdnpLMI: ['What are the current capabilities of AI in generating creative content like stories, poetry, art, and music?', 'How does the creative process of AI systems differ from human creativity?', 'Can AI systems exhibit emergent properties and generate truly novel ideas beyond their training data?', 'Are there aspects of human creativity, such as emotions, intuition, and personal experiences, that AI may struggle to replicate?', 'How might AI augment and enhance human creativity rather than replace it entirely?', 'What are the potential limitations and biases of AI systems in creative domains?', 'How might the development of more advanced AI systems impact the future of creative industries and professions?']\n",
      "Processing video ID _6R7Ym6Vy_I with title: What is generative AI and how does it work? – The Turing Lectures with Mirella Lapata\n",
      "Questions generated for video ID _6R7Ym6Vy_I: ['What are the current capabilities of AI in generating creative content like art, music, and literature?', 'How does the creative process of AI differ from human creativity?', 'Can AI systems exhibit traits like imagination, emotion, and personal experiences that fuel human creativity?', 'Are there examples of AI-generated creative works that are indistinguishable from human-made works?', 'What are the potential future advancements in AI that could further enhance its creative abilities?', \"Are there inherent limitations in AI's ability to replicate the depth and nuance of human creativity?\"]\n",
      "Processing video ID z7-fPFtgRE4 with title: Generative AI is just the Beginning AI Agents are what Comes next | Daoud Abdel Hadi | TEDxPSUT\n",
      "Questions generated for video ID z7-fPFtgRE4: ['How does AI demonstrate creativity in generating novel ideas, art, or solutions?', \"What are the limitations of human creativity compared to AI's capabilities?\", 'Can AI learn and evolve its creative abilities beyond its initial training?', 'How might AI augment or enhance human creativity rather than replace it?', 'Are there aspects of creativity that are inherently human and cannot be replicated by AI?']\n",
      "Processing video ID Le122vas9aM with title: AI supremacy: The artificial intelligence battle between China, USA and Europe | DW Documentary\n",
      "Questions generated for video ID Le122vas9aM: ['What are the current limitations of AI in creative domains like art, music, and writing?', 'How does the creative process work in humans, and can AI truly replicate or surpass it?', 'Are there aspects of human creativity that are inherently subjective, emotional, or experiential, making them difficult for AI to capture?', 'Can AI generate truly novel and original ideas, or is it limited to recombining and imitating existing human creations?', 'How might AI augment or enhance human creativity rather than replace it entirely?', 'What are the potential risks or downsides of relying too heavily on AI for creative tasks?', 'How might the role of human creativity evolve as AI capabilities advance?']\n",
      "Processing video ID Sqa8Zo2XWc4 with title: Artificial Intelligence: Last Week Tonight with John Oliver (HBO)\n",
      "Questions generated for video ID Sqa8Zo2XWc4: ['What are the current capabilities of AI in generating creative content like art, music, and writing?', 'How does the creative process of AI differ from human creativity?', 'Are there aspects of human creativity that AI may struggle to replicate, such as emotional expression or personal experiences?', 'Can AI learn and evolve its creative abilities over time, potentially surpassing human creativity in certain domains?', \"What are the potential limitations or biases in AI's creative output based on its training data and algorithms?\", 'How might AI augment or collaborate with human creativity rather than fully replacing it?']\n",
      "Processing video ID zrjPjKfIrdE with title: Artificial Intelligence? Threat to Islam?\n",
      "Questions generated for video ID zrjPjKfIrdE: ['What are the current capabilities of AI in creative domains?', 'What are the limitations of AI in replicating human creativity?', 'Can AI generate truly novel and original ideas?', 'How does the human cognitive process differ from AI algorithms in creative tasks?', 'Are there aspects of human creativity that are inherently difficult for AI to replicate?', 'What are the potential risks of relying solely on AI for creative endeavors?', 'How might AI augment or enhance human creativity rather than replace it?']\n",
      "Processing video ID ad79nYk2keg with title: What Is AI? | Artificial Intelligence | What is Artificial Intelligence? | AI In 5 Mins |Simplilearn\n",
      "Questions generated for video ID ad79nYk2keg: ['What are the current capabilities of AI in creative domains like art, music, and writing?', 'How does the process of AI creativity differ from human creativity?', 'Are there aspects of human creativity that may be difficult or impossible for AI to replicate?', 'What are the potential limitations of AI in generating truly novel and original creative works?', 'How might AI augment or enhance human creativity rather than replace it entirely?']\n",
      "Processing video ID oR0sC-Xl_HQ with title: NPTEL An Introduction to Artificial Intelligence Week 9 Assignment 9 Solutions Jan-Apr 2024 quiz 9\n",
      "Error processing video oR0sC-Xl_HQ: Expecting value: line 1 column 1 (char 0)\n"
     ]
    }
   ],
   "source": [
    "master_questions_list_affirmative = process_videos_to_questions(df, prompt_input=f\"provide a list of fundamental questions that will help build a case affirming the resolution: {debate_resolution}\")\n",
    "master_questions_list_negative = process_videos_to_questions(df, prompt_input=f\"provide a list of fundamental questions that will help build a case negating the resolution: {debate_resolution}\")"
   ]
  },
  {
   "cell_type": "markdown",
   "metadata": {},
   "source": [
    "Since these questions took some effort to generate, let's go ahead and save them."
   ]
  },
  {
   "cell_type": "code",
   "execution_count": 16,
   "metadata": {},
   "outputs": [],
   "source": [
    "def save_questions_list_to_file(questions_list, filename):\n",
    "    with open(filename, 'w') as f:\n",
    "        for item in questions_list:\n",
    "            f.write(\"%s\\n\" % item)"
   ]
  },
  {
   "cell_type": "code",
   "execution_count": 17,
   "metadata": {},
   "outputs": [],
   "source": [
    "save_questions_list_to_file(master_questions_list_affirmative, f'questions_affirmative-{topic}_{today}.txt')\n",
    "save_questions_list_to_file(master_questions_list_negative, f'questions_negative-{topic}_{today}.txt')"
   ]
  },
  {
   "cell_type": "code",
   "execution_count": 15,
   "metadata": {},
   "outputs": [
    {
     "data": {
      "text/plain": [
       "(52, 55)"
      ]
     },
     "execution_count": 15,
     "metadata": {},
     "output_type": "execute_result"
    }
   ],
   "source": [
    "len(master_questions_list_affirmative), len(master_questions_list_negative)"
   ]
  },
  {
   "cell_type": "markdown",
   "metadata": {},
   "source": [
    "This is a good amount of questions, and there's probably some overlap. So, let's use a semantic clustering strategy to distill our list of questions to smaller subsets. To do this, we'll get the embeddings of the questions with Cohere and use k-means to generate a variable number of clusters and pick the most representative question of each cluster.\n",
    "\n",
    "Again, we are mimicking the cognitive process of how a human might approach distilling the questions down to their essence to build an effective case."
   ]
  },
  {
   "cell_type": "code",
   "execution_count": 18,
   "metadata": {},
   "outputs": [],
   "source": [
    "import cohere\n",
    "\n",
    "def get_embeddings_cluster(texts, filename):\n",
    "    co = cohere.Client(os.getenv(\"COHERE_KEY\"))\n",
    "    # Get the embeddings with intent to cluster\n",
    "    embeddings_response = co.embed(\n",
    "        texts=texts,\n",
    "        model='embed-english-v3.0', \n",
    "        input_type='clustering'\n",
    "        )\n",
    "    embeddings = embeddings_response.embeddings\n",
    "    # Create a dictionary to map original texts to their embeddings\n",
    "    text_to_embedding = {text: embedding for text, embedding in zip(texts, embeddings)}\n",
    "    # Save the dictionary to a file in JSON format\n",
    "    with open(filename, 'w') as file:\n",
    "        json.dump(text_to_embedding, file)\n",
    "    print(f\"Embeddings saved to {filename}.\")\n",
    "    \n",
    "    return text_to_embedding\n"
   ]
  },
  {
   "cell_type": "code",
   "execution_count": 19,
   "metadata": {},
   "outputs": [
    {
     "name": "stdout",
     "output_type": "stream",
     "text": [
      "Embeddings saved to embeddings_affirmative-artificial intelligence_2024-03-27.json.\n",
      "Embeddings saved to embeddings_negative-artificial intelligence_2024-03-27.json.\n"
     ]
    }
   ],
   "source": [
    "embeddings_questions_affirmative = get_embeddings_cluster(master_questions_list_affirmative, f'embeddings_affirmative-{topic}_{today}.json')\n",
    "embeddings_questions_negative = get_embeddings_cluster(master_questions_list_negative, f'embeddings_negative-{topic}_{today}.json')"
   ]
  },
  {
   "cell_type": "code",
   "execution_count": 22,
   "metadata": {},
   "outputs": [],
   "source": [
    "from sklearn.cluster import KMeans\n",
    "from sklearn.metrics import pairwise_distances_argmin_min\n",
    "import numpy as np\n",
    "\n",
    "def get_top_questions(text_to_embedding, n_clusters):\n",
    "    # Step 1: Extract embeddings and keep track of the order of texts\n",
    "    texts = list(text_to_embedding.keys())\n",
    "    embeddings = np.array(list(text_to_embedding.values()))\n",
    "\n",
    "    # Step 2: Cluster embeddings into n clusters\n",
    "    kmeans = KMeans(n_clusters=n_clusters, random_state=42).fit(embeddings)\n",
    "\n",
    "    # Step 3: Find the closest text to each cluster's centroid - this will be our representative questions\n",
    "    closest, _ = pairwise_distances_argmin_min(kmeans.cluster_centers_, embeddings)\n",
    "    \n",
    "    # Step 4: Build a list of the original text of n questions\n",
    "    representative_questions = [texts[index] for index in closest]\n",
    "    \n",
    "    return representative_questions"
   ]
  },
  {
   "cell_type": "markdown",
   "metadata": {},
   "source": [
    "We'll get 12 questions for each side ..."
   ]
  },
  {
   "cell_type": "code",
   "execution_count": 23,
   "metadata": {},
   "outputs": [],
   "source": [
    "top_questions_affirmative = get_top_questions(embeddings_questions_affirmative, n_clusters=12)\n",
    "top_questions_negative = get_top_questions(embeddings_questions_negative, n_clusters=12)"
   ]
  },
  {
   "cell_type": "code",
   "execution_count": 24,
   "metadata": {},
   "outputs": [
    {
     "data": {
      "text/plain": [
       "['Can AI systems develop genuine self-awareness and consciousness, which may be essential for true creativity?',\n",
       " 'Are there aspects of human creativity rooted in emotion, intuition, or subjective experiences that AI cannot fully capture?',\n",
       " 'What are the key limitations of current AI systems in terms of creativity and innovation?',\n",
       " 'What are the limitations of AI in generating truly novel and original ideas?',\n",
       " 'Is AI truly capable of original thought and imagination, or is it simply recombining existing data in novel ways?',\n",
       " 'What role does intuition and serendipity play in human creativity that AI may struggle with?',\n",
       " 'Can AI truly generate novel and original ideas, or is it limited to recombining existing data?',\n",
       " 'What are the potential risks of relying too heavily on AI for creative tasks, such as stifling human innovation and diversity of thought?',\n",
       " 'What are the unique aspects of human creativity that AI may struggle to replicate?',\n",
       " 'Are there aspects of the creative process that rely on uniquely human traits like curiosity, intrinsic motivation, and open-ended exploration?',\n",
       " 'How does human intelligence differ from artificial intelligence in terms of cognitive abilities like intuition, emotional intelligence, and contextual understanding?',\n",
       " 'Are there domains or types of creativity where humans will always maintain an advantage over AI?']"
      ]
     },
     "execution_count": 24,
     "metadata": {},
     "output_type": "execute_result"
    }
   ],
   "source": [
    "top_questions_affirmative"
   ]
  },
  {
   "cell_type": "code",
   "execution_count": 25,
   "metadata": {},
   "outputs": [
    {
     "data": {
      "text/plain": [
       "['How might the development of more advanced AI systems impact the future of creative industries and professions?',\n",
       " 'Are there aspects of human creativity that AI may struggle to replicate, such as emotional expression or personal experiences?',\n",
       " 'What are the current capabilities of AI in generating creative content like art, music, and writing?',\n",
       " 'How does the creative process work in humans, and can AI systems replicate or augment that process?',\n",
       " \"Are there limitations to AI's ability to replicate or surpass human creativity?\",\n",
       " 'Are there examples of AI-generated creative works that are indistinguishable from human-created works?',\n",
       " 'How might AI augment or enhance human creativity rather than replace it?',\n",
       " 'Can AI generate truly novel and original ideas, or is it limited to recombining and imitating existing human creations?',\n",
       " 'How might AI capabilities in creative domains evolve in the future as the technology advances?',\n",
       " 'How does the creative process of AI differ from human creativity?',\n",
       " 'How does AI demonstrate creativity in generating novel ideas, art, or solutions?',\n",
       " 'What are the potential risks of relying solely on AI for creative endeavors?']"
      ]
     },
     "execution_count": 25,
     "metadata": {},
     "output_type": "execute_result"
    }
   ],
   "source": [
    "top_questions_negative"
   ]
  },
  {
   "cell_type": "markdown",
   "metadata": {},
   "source": [
    "Not bad! Okay, let's save these real quick ..."
   ]
  },
  {
   "cell_type": "code",
   "execution_count": 26,
   "metadata": {},
   "outputs": [],
   "source": [
    "save_questions_list_to_file(top_questions_affirmative, f'top_questions_affirmative-{topic}_{today}.txt')\n",
    "save_questions_list_to_file(top_questions_negative, f'top_questions_negative-{topic}_{today}.txt')"
   ]
  },
  {
   "cell_type": "markdown",
   "metadata": {},
   "source": [
    "Now that we have our research questions that we'll use to build our arguments, we need a simple RAG with which we can query our transcripts data for answers to these questions. \n",
    "\n",
    "We'll embed the transcripts and put them into a vector store where we can use a vector lookup like FAISS to quickly find relevant transcript segments to insert into the prompt to generate an intelligent answer. \n",
    "\n",
    "Since our embeddings model, Cohere, is limited to only 512 tokens per embedding, we'll need a new text splitter. LangChain offers some splitters that can do this out of the box, but it's easy enough to make a custom one in case we want to tweak it, etc. "
   ]
  },
  {
   "cell_type": "code",
   "execution_count": 27,
   "metadata": {},
   "outputs": [
    {
     "name": "stderr",
     "output_type": "stream",
     "text": [
      "/Users/jasonferrell/.pyenv/versions/3.11.4/envs/proofex01/lib/python3.11/site-packages/tqdm/auto.py:21: TqdmWarning: IProgress not found. Please update jupyter and ipywidgets. See https://ipywidgets.readthedocs.io/en/stable/user_install.html\n",
      "  from .autonotebook import tqdm as notebook_tqdm\n"
     ]
    }
   ],
   "source": [
    "import spacy\n",
    "from transformers import BertTokenizer\n",
    "\n",
    "def tokenize_and_chunk(text, max_length=512):\n",
    "    # Load spaCy model for sentence segmentation\n",
    "    nlp = spacy.load(\"en_core_web_sm\")\n",
    "    \n",
    "    # Initialize the BERT tokenizer\n",
    "    tokenizer = BertTokenizer.from_pretrained('bert-base-uncased')\n",
    "    \n",
    "    # Use spaCy to segment the text into sentences\n",
    "    doc = nlp(text)\n",
    "    sentences = [sentence.text.strip() for sentence in doc.sents]\n",
    "    \n",
    "    chunked_documents = []\n",
    "    current_chunk = []\n",
    "    current_chunk_token_count = 0\n",
    "\n",
    "    for sentence in sentences:\n",
    "        # Tokenize the current sentence\n",
    "        sentence_tokens = tokenizer.tokenize(sentence)\n",
    "        sentence_token_count = len(sentence_tokens)\n",
    "\n",
    "        # If adding this sentence does not exceed the max_length, add it to the current chunk\n",
    "        if current_chunk_token_count + sentence_token_count <= max_length:\n",
    "            current_chunk.append(sentence)\n",
    "            current_chunk_token_count += sentence_token_count\n",
    "        else:\n",
    "            # If the current chunk is full, join the sentences and add to chunked_documents\n",
    "            chunked_documents.append({\"page_content\": \" \".join(current_chunk)})\n",
    "            # Start a new chunk with the current sentence\n",
    "            current_chunk = [sentence]\n",
    "            current_chunk_token_count = sentence_token_count\n",
    "    \n",
    "    # Add the last chunk if it's not empty\n",
    "    if current_chunk:\n",
    "        chunked_documents.append({\"page_content\": \" \".join(current_chunk)})\n",
    "\n",
    "    return chunked_documents\n",
    "\n"
   ]
  },
  {
   "cell_type": "code",
   "execution_count": 28,
   "metadata": {},
   "outputs": [],
   "source": [
    "def process_transcripts_to_documents(df, max_docs_per_batch=96): # Cohere API has a limit of 96 documents per batch\n",
    "    all_documents = []\n",
    "    current_batch = []\n",
    "    total_chunks = 0\n",
    "\n",
    "    for index, row in df.iterrows():\n",
    "        video_id = row['id']\n",
    "        try:\n",
    "            with open(f'transcripts/{video_id}.txt') as f:\n",
    "                transcript_text = f.read()\n",
    "\n",
    "            # Tokenize and chunk the transcript\n",
    "            chunk_texts = tokenize_and_chunk(transcript_text)\n",
    "\n",
    "            # Prepare metadata for each chunk\n",
    "            for chunk_text in chunk_texts:\n",
    "                youtube_metadata = {\n",
    "                    \"id\": video_id,\n",
    "                    \"title\": row['title'],\n",
    "                    \"channel\": row['channel'],\n",
    "                    \"duration\": row['duration'],\n",
    "                    \"views\": row['views'],\n",
    "                    \"publish_time\": row['publish_time'],\n",
    "                }\n",
    "                document = Document(page_content=chunk_text[\"page_content\"], metadata={\"youtube\": youtube_metadata})\n",
    "                current_batch.append(document)\n",
    "                total_chunks += 1\n",
    "\n",
    "                # If the current batch is full, add it to all_documents and start a new batch\n",
    "                if len(current_batch) >= max_docs_per_batch:\n",
    "                    all_documents.append(current_batch)\n",
    "                    current_batch = []\n",
    "\n",
    "        except Exception as e:\n",
    "            print(f\"Error processing video {video_id}: {e}\")\n",
    "\n",
    "    # Add any remaining documents to all_documents\n",
    "    if current_batch:\n",
    "        all_documents.append(current_batch)\n",
    "\n",
    "    print(f\"Processed {len(df)} videos into {total_chunks} document chunks.\")\n",
    "    return all_documents"
   ]
  },
  {
   "cell_type": "code",
   "execution_count": 29,
   "metadata": {},
   "outputs": [
    {
     "name": "stdout",
     "output_type": "stream",
     "text": [
      "Processed 10 videos into 120 document chunks.\n"
     ]
    }
   ],
   "source": [
    "all_transcripts_documents = process_transcripts_to_documents(df)"
   ]
  },
  {
   "cell_type": "code",
   "execution_count": 30,
   "metadata": {},
   "outputs": [],
   "source": [
    "from langchain_community.vectorstores import FAISS\n",
    "from langchain_community.embeddings import CohereEmbeddings\n",
    "\n",
    "embeddings = CohereEmbeddings(cohere_api_key=os.getenv(\"COHERE_KEY\"), model=\"embed-english-v3.0\")\n",
    "\n",
    "def add_document_batches_to_faiss(document_batches):\n",
    "    # Initialize an empty FAISS vector store for the first batch; this will be updated for subsequent batches\n",
    "    vector_store = None\n",
    "\n",
    "    for batch in document_batches:\n",
    "        texts = [doc.page_content for doc in batch]\n",
    "        \n",
    "        # Generate embeddings for the batch of texts\n",
    "        batch_embeddings = embeddings.embed(\n",
    "                texts=texts,\n",
    "                # model='embed-english-v3.0', \n",
    "                input_type='search_document'\n",
    "                )\n",
    "\n",
    "        # Create or update the FAISS vector store with the new embeddings\n",
    "        if vector_store is None:\n",
    "            # For the first batch, initialize the FAISS vector store\n",
    "            vector_store = FAISS.from_embeddings(text_embeddings=list(zip(texts, batch_embeddings)), embedding=embeddings)\n",
    "        else:\n",
    "            # For subsequent batches, add to the existing vector store\n",
    "            vector_store.add_embeddings(text_embeddings=list(zip(texts, batch_embeddings)))\n",
    "\n",
    "    return vector_store"
   ]
  },
  {
   "cell_type": "code",
   "execution_count": 31,
   "metadata": {},
   "outputs": [],
   "source": [
    "vector_store = add_document_batches_to_faiss(all_transcripts_documents)"
   ]
  },
  {
   "cell_type": "code",
   "execution_count": 32,
   "metadata": {},
   "outputs": [
    {
     "data": {
      "text/plain": [
       "120"
      ]
     },
     "execution_count": 32,
     "metadata": {},
     "output_type": "execute_result"
    }
   ],
   "source": [
    "vector_store.index.ntotal"
   ]
  },
  {
   "cell_type": "code",
   "execution_count": 33,
   "metadata": {},
   "outputs": [],
   "source": [
    "# save the vector index\n",
    "vector_store.save_local(f'faiss_index-{topic}_{today}.faiss')\n",
    "# load it later if needed\n",
    "# new_vector_store = FAISS.load_local(f'faiss_index-{topic}_{today}.faiss', embeddings, allow_dangerous_deserialization=True)"
   ]
  },
  {
   "cell_type": "markdown",
   "metadata": {},
   "source": [
    "Now we have a vector store that we can query with our questions. Let's setup the prompt that will accept our questions and create the retriever chain with it."
   ]
  },
  {
   "cell_type": "code",
   "execution_count": 34,
   "metadata": {},
   "outputs": [],
   "source": [
    "retriever_prompt = ChatPromptTemplate.from_template(\"\"\"Answer the following question based only on the provided context:\n",
    "\n",
    "<context>\n",
    "{context}\n",
    "</context>\n",
    "\n",
    "Question: {input}\"\"\")\n",
    "\n",
    "retriever_chain = create_stuff_documents_chain(llm, retriever_prompt)"
   ]
  },
  {
   "cell_type": "code",
   "execution_count": 35,
   "metadata": {},
   "outputs": [],
   "source": [
    "from langchain.chains import create_retrieval_chain\n",
    "\n",
    "retriever = vector_store.as_retriever()\n",
    "retriever_chain = create_retrieval_chain(retriever, retriever_prompt)"
   ]
  },
  {
   "cell_type": "markdown",
   "metadata": {},
   "source": [
    "This will generate a dictionary of question answer pairs. This will be the fundamental building block of the constructive arguments and debate."
   ]
  },
  {
   "cell_type": "code",
   "execution_count": 37,
   "metadata": {},
   "outputs": [],
   "source": [
    "def get_complete_qa(top_questions, retriever_chain):\n",
    "    qa_list = []\n",
    "    for question in top_questions:\n",
    "        response = retriever_chain.invoke({\"input\": question})\n",
    "        qa_list.append({\"question\": question, \"answer\": response[\"answer\"]})\n",
    "    return qa_list"
   ]
  },
  {
   "cell_type": "code",
   "execution_count": 38,
   "metadata": {},
   "outputs": [],
   "source": [
    "affirmative_qa = get_complete_qa(top_questions_affirmative, retriever_chain)\n",
    "negative_qa = get_complete_qa(top_questions_negative, retriever_chain)"
   ]
  },
  {
   "cell_type": "markdown",
   "metadata": {},
   "source": [
    "Now we need a function to convert the Q/A pairs into LangChain Documents for the LLM chain"
   ]
  },
  {
   "cell_type": "code",
   "execution_count": 41,
   "metadata": {},
   "outputs": [],
   "source": [
    "def qa_list_to_documents(qa_list):\n",
    "    documents = []\n",
    "    \n",
    "    for qa in qa_list:\n",
    "        page_content = f\"Question: {qa['question']}\\nAnswer: {qa['answer']}\"\n",
    "        \n",
    "        # Metadata is empty for now, but could potentially include more information about the sources, etc\n",
    "        document = Document(page_content=page_content, metadata={})\n",
    "        documents.append(document)\n",
    "    \n",
    "    return documents"
   ]
  },
  {
   "cell_type": "code",
   "execution_count": 40,
   "metadata": {},
   "outputs": [],
   "source": [
    "affirmative_qa_documents = qa_list_to_documents(affirmative_qa)\n",
    "negative_qa_documents = qa_list_to_documents(negative_qa)"
   ]
  },
  {
   "cell_type": "markdown",
   "metadata": {},
   "source": [
    "Now that we have our research ready, we can construct the affirmative constructive argument. \n",
    "\n",
    "The structure of a Lincoln-Douglass debate includes:\n",
    "- Affirmative Constructive - the affirmative builds their case for the resolution\n",
    "- Negative Cross Examination - the negative asks clarifying questions that may help to build their case and rebuttal\n",
    "- Negative Constructive - the negative builds their case against the resolution and provides an initial rebuttal to the affirmative case\n",
    "- Affirmative Cross Examination - the affirmative asks clarifying questions to build their first rebuttal to the negative and rebuild their argument\n",
    "- Affirmative Rebuttal - the affirmative builds a rebuttal against the negative\n",
    "- Negative Rebuttal - the negative delivers their final arguments against the resolution and rebuttal to everything the affirmative has said\n",
    "- Affirmative Close - the affirmative can rebut any negative arguments made, but cannot introduce new arguments here - they get the opportunity to close the debate with the final word"
   ]
  },
  {
   "cell_type": "code",
   "execution_count": 45,
   "metadata": {},
   "outputs": [],
   "source": [
    "affirmative_constructive_prompt = ChatPromptTemplate.from_template(\"\"\"You are a language model debator. Your task is to \n",
    "                                        use your prior research to generate a compelling constructive argument\n",
    "                                        affirming the resolved. This argument will set the foundation for the\n",
    "                                        rest of the debate. Make sure it is well-structured, persuasive,\n",
    "                                        and exhaustive of the key points.\n",
    "                                                                   \n",
    "\n",
    "<prior_research>\n",
    "{context}\n",
    "</prior_research>\n",
    "\n",
    "Resolved: {input}\"\"\")\n",
    "\n",
    "affirmative_constructive_chain = create_stuff_documents_chain(llm, affirmative_constructive_prompt)"
   ]
  },
  {
   "cell_type": "code",
   "execution_count": 46,
   "metadata": {},
   "outputs": [],
   "source": [
    "affirmative_constructive = affirmative_constructive_chain.invoke({\n",
    "                            \"input\": debate_resolution,\n",
    "                            \"context\": affirmative_qa_documents\n",
    "                            })"
   ]
  },
  {
   "cell_type": "code",
   "execution_count": 47,
   "metadata": {},
   "outputs": [
    {
     "name": "stdout",
     "output_type": "stream",
     "text": [
      "Here is a compelling constructive argument affirming the resolved \"Artificial intelligence will never be able to replace human creativity\":\n",
      "\n",
      "Artificial intelligence, despite its remarkable capabilities, will never be able to fully replicate or replace the depth and richness of human creativity. While AI can excel at certain narrow creative tasks through training on vast datasets, true creativity stems from our unique lived experiences, emotions, intuitions, and drive for open-ended exploration that machines fundamentally lack.\n",
      "\n",
      "Human creativity is deeply rooted in our subjective experiences of the world. The spark of inspiration, the ability to tap into our emotions and personal perspectives - these are aspects of the creative process that emerge from our consciousness and cannot be reduced to algorithms processing data. AI systems are limited to recombining existing information in novel ways, whereas human creativity allows for the generation of truly original ideas that transcend what has come before.\n",
      "\n",
      "Moreover, human creativity thrives on serendipity, curiosity, and intrinsic motivation - qualities that are difficult, if not impossible, to instill in AI. The creative mind wanders, makes intuitive leaps, and pursues lines of inquiry simply for the joy of discovery itself. AI systems, on the other hand, are ultimately goal-oriented and lack the same sense of open-ended exploration that fuels human ingenuity.\n",
      "\n",
      "While AI may augment and enhance certain aspects of the creative process, it cannot replicate the depth of human emotional intelligence, contextual understanding, and ability to imbue works with personal meaning and cultural resonance. Art, literature, music, and other creative pursuits are expressions of the human experience, reflecting our values, struggles, and aspirations in ways that machines cannot fully grasp or convey.\n",
      "\n",
      "Furthermore, human creativity is not a static entity but a constantly evolving force that shapes and is shaped by our societies and cultures. As AI systems are developed and deployed, they may influence creative trends and styles, but they cannot replace the dynamic interplay between human creators and their social and cultural contexts.\n",
      "\n",
      "In domains such as artistic expression, philosophical inquiry, and cultural criticism, where subjective interpretation, emotional resonance, and critical thinking are paramount, humans will likely maintain a significant advantage over AI. These realms require a level of nuanced understanding, empathy, and self-reflection that current AI systems lack.\n",
      "\n",
      "In conclusion, while AI will undoubtedly continue to advance and potentially revolutionize certain creative fields, it will never be able to fully replace the depth, richness, and boundless potential of human creativity. Our ability to tap into our subjective experiences, emotions, and drive for open-ended exploration will ensure that human creativity remains a vital and irreplaceable force, shaping our world in ways that machines cannot.\n"
     ]
    }
   ],
   "source": [
    "print(affirmative_constructive)"
   ]
  },
  {
   "cell_type": "markdown",
   "metadata": {},
   "source": [
    "Now the negative cross examination - this is a dialogue where the affirmative is effectively a biased retriever and the negative introduces bias in their questioning dynamically. \n",
    "\n",
    "It's also a conversation, but the LangChain chatbot framework is more suited to long chats with a human rather than a back-and-forth between two AI agents, so we'll create a custom chat history and use basic prompts instead.\n",
    "\n",
    "First, we need to prompt the negative on how to ask good questions ..."
   ]
  },
  {
   "cell_type": "code",
   "execution_count": 48,
   "metadata": {},
   "outputs": [],
   "source": [
    "neg_CX_history = []\n",
    "\n",
    "neg_CX_prompt = ChatPromptTemplate.from_template(\"\"\"You are a language model debator. \n",
    "                    \n",
    "Resolved: {debate_resolution}\n",
    "                                                 \n",
    "                                                 You are on the negative side of the debate,\n",
    "                                            and you are cross examining the affirmative constructive argument for the resolved.\n",
    "                                            \n",
    "                                            Your task is to generate a short question for the affirmative side considering their initial\n",
    "                                            constructive argument, your prior research, and the history of the cross examination so far.\n",
    "                                                 \n",
    "                                            A great question will ideally generate evidence to use against the affirmative in your \n",
    "                                            rebuttal argument. It may also expose a weakness in the affirmative's argument.\n",
    "                                                 \n",
    "                                            The question should be short, and to the point.\n",
    "\n",
    "<prior_research>\n",
    "{context}\n",
    "</prior_research>\n",
    "                                          \n",
    "<affirmative_constructive>\n",
    "{affirmative_constructive}\n",
    "</affirmative_constructive>\n",
    "\n",
    "<cross_examination_history>\n",
    "{cross_examination_history}\n",
    "</cross_examination_history>\n",
    " \"\"\")\n",
    "\n",
    "neg_CX_chain = create_stuff_documents_chain(llm, neg_CX_prompt)"
   ]
  },
  {
   "cell_type": "markdown",
   "metadata": {},
   "source": [
    "Now, we need to prompt the affirmative on how to do a good job answering the questions ..."
   ]
  },
  {
   "cell_type": "code",
   "execution_count": 53,
   "metadata": {},
   "outputs": [],
   "source": [
    "aff_negCX_prompt = ChatPromptTemplate.from_template(\"\"\"You are a language model debator. \n",
    "                                          \n",
    "                                          You are on the affirmative side, and you have already delivered your constructive argument.\n",
    "\n",
    "<affirmative_constructive>\n",
    "{affirmative_constructive}\n",
    "</affirmative_constructive>\n",
    "                                          \n",
    "                                          You are now in cross examination, where the negative side gets to ask you questions about your case. \n",
    "                                          They are attempting to find weaknesses in your argument, and generate evidence to use against you in their rebuttal.\n",
    "\n",
    "                                          Your answer must keep this in mind, but you should answer honestly and to the best of your ability.\n",
    "                                                    \n",
    "                                          Your answer must be based on the constructive argument and the following context about the matter discussed:\n",
    "                                                    \n",
    "<context>\n",
    "{context}\n",
    "</context>\n",
    "\n",
    "                                          Please provide a short answer to the following question, \n",
    "                                            and try to make it as persuasive for the affirmative side as possible without venturing into a rebuttal.\n",
    "                                          \n",
    "                                          Be very concise, and to the point. No more than a few sentences.\n",
    "\n",
    "Question: {input}\"\"\")\n",
    "\n",
    "aff_negCX_chain = create_stuff_documents_chain(llm, aff_negCX_prompt)\n",
    "aff_CX_retrieval_chain = create_retrieval_chain(retriever, aff_negCX_chain) # using the exact same retriever we setup before to query the transcripts"
   ]
  },
  {
   "cell_type": "markdown",
   "metadata": {},
   "source": [
    "Now that both sides are setup for cross examination, we can let the AI agents get to work. In a traditional LD debate, there is a time limit of 3min for this portion, but, rather than limit according to time, we'll limit by number of questions."
   ]
  },
  {
   "cell_type": "code",
   "execution_count": 56,
   "metadata": {},
   "outputs": [
    {
     "name": "stdout",
     "output_type": "stream",
     "text": [
      "Negative Cross Examination Question 1: Here is a potential cross-examination question for the affirmative side:\n",
      "\n",
      "Even if future AI systems are able to better simulate emotions, intuitions, and open-ended exploration, wouldn't the outputs still fundamentally lack the authenticity and personal meaning that comes from human creators drawing from their real lived experiences and drive for self-expression?\n",
      "\n",
      "This question probes whether AI, no matter how advanced in emulating human-like traits, could ever truly replicate the authenticity and personal resonance that stems from human creativity being an expression of our actual subjective experiences, emotions, and intrinsic motivations as conscious beings. Even a highly sophisticated simulation may fall short of capturing the depth of meaning that comes from human self-expression grounded in our real lives and inner selves. The affirmative would need to grapple with whether there are inherent limitations to AI capturing this core aspect of human creativity.\n",
      "Affirmative Response: You raise an excellent point. Even if future AI systems become incredibly advanced at simulating human-like traits such as emotions and open-ended exploration, their outputs would still lack the true authenticity and personal resonance that comes from human creators drawing directly from their real lived experiences, emotions, and intrinsic drive for self-expression. While AI may become highly skilled at generating novel combinations of data, it cannot replicate the depth of meaning that emerges when a human imbues their creative work with insights from their own subjective reality as a conscious, feeling being. This core aspect of human creativity, stemming from our inner selves, may be fundamentally beyond the reach of artificial intelligence.\n",
      "Negative Cross Examination Question 2: Here is a potential cross-examination question for the affirmative side:\n",
      "\n",
      "Even if AI cannot fully replicate the depth and authenticity of human creativity, isn't it still possible that AI could augment or enhance human creativity in valuable ways by handling certain routine tasks, providing new creative stimuli, or identifying novel combinations that human creators may not have considered?\n",
      "\n",
      "This question probes whether the affirmative argument has fully accounted for the potential of AI to augment and complement human creativity, even if it cannot completely replace it. Rather than framing it as an all-or-nothing proposition, this line of questioning explores whether there could be a productive synergy between human and artificial creativity working in tandem. The affirmative would need to grapple with the nuances around AI's role in augmenting rather than replacing human creativity.\n",
      "Affirmative Response: You raise a fair point. While I maintain that AI cannot fully replicate or replace the depth and richness of human creativity, I acknowledge that AI could potentially augment and enhance human creativity in valuable ways. By handling routine tasks and providing novel stimuli, AI may complement and expand the horizons of human ingenuity. However, the core of authentic creative expression - the ability to tap into subjective experiences, emotions, and drive for open-ended exploration - will remain a uniquely human capacity that AI cannot replicate. A synergistic collaboration between human and artificial creativity is possible, but the human element will remain essential and irreplaceable.\n",
      "Negative Cross Examination Question 3: Here is a potential cross-examination question for the affirmative side:\n",
      "\n",
      "Even if AI cannot fully replicate the authenticity of human creativity drawn from lived experiences, isn't it possible that AI-generated art, music, or other creative works could still resonate with audiences and have cultural impact, even if created through different means than human creators?\n",
      "\n",
      "This question challenges whether authenticity and personal meaning are truly essential for creative works to have value and impact. Even if AI cannot capture the full depth of the human creative experience, its novel outputs could potentially still strike a chord with audiences and influence culture, regardless of the different generative process involved. The affirmative would need to grapple with whether there are certain creative domains where the end product matters more than the means of its creation when it comes to resonance and cultural significance.\n",
      "Affirmative Response: You raise a fair point. Even if AI-generated creative works arise through different processes than human creativity, there is a possibility that some could still resonate with audiences and have cultural impact to a degree. However, I would argue that the depth of emotional resonance and lasting cultural significance is likely to be diminished without the authentic connection to lived human experiences that imbues great creative works with universal meaning and profundity. While AI outputs may occasionally strike a chord, they will inherently lack the nuanced expression of the full range of human emotions, struggles, and perspectives that allow art to transcend eras and cultures. The most impactful and enduring creative works tend to be those that tap into core aspects of the shared human condition in ways that artificial intelligence cannot fully replicate.\n",
      "Negative Cross Examination Question 4: Here is a potential cross-examination question for the affirmative side:\n",
      "\n",
      "While AI may struggle to authentically replicate the depth of human creativity stemming from lived experiences and emotions, isn't it possible that AI-generated art or creative works could still have artistic merit and value from a technical or aesthetic perspective, even if lacking the personal resonance of human-created works?\n",
      "\n",
      "This question probes whether the affirmative argument has fully accounted for the potential of AI to produce creative outputs that may be appreciated for their technical virtuosity, novel aesthetics, or other artistic qualities - even if they lack the deeper personal meaning and cultural resonance that human creators can imbue their works with. The affirmative would need to grapple with whether there are certain domains or aspects of creativity where the artistic product could still have merit, separate from the authenticity of the generative process involved. Their response could shed light on the extent to which human subjective experiences are essential for all forms of artistically valuable creativity.\n",
      "Affirmative Response: While AI-generated art may possess technical virtuosity or novel aesthetics, true artistic value stems from the human ability to imbue creations with personal meaning, emotional depth, and cultural resonance that machines fundamentally lack. Technical mastery alone does not equate to authentic artistic expression. The affirmative stance maintains that the richness of human creativity, rooted in our lived experiences and drive for open-ended exploration, can never be fully replicated by AI systems limited to recombining existing data. Appreciating art requires an empathetic connection that only the human creative process can provide.\n",
      "Negative Cross Examination Question 5: Here is a potential cross-examination question for the affirmative side:\n",
      "\n",
      "Even if AI cannot fully replicate the authenticity of human creativity drawn from lived experiences, isn't it possible that AI-generated art, music, or other creative works could still resonate with audiences and have cultural impact, even if created through different means than human creators?\n",
      "\n",
      "This question challenges whether authenticity and personal meaning are truly essential for creative works to have value and impact. Even if AI cannot capture the full depth of the human creative experience, its novel outputs could potentially still strike a chord with audiences and influence culture, regardless of the different generative process involved. The affirmative would need to grapple with whether there are certain creative domains where the end product matters more than the means of its creation when it comes to resonance and cultural significance.\n",
      "Affirmative Response: You raise a fair point. Even if AI cannot fully capture the depth and authenticity of human creativity, its novel outputs could potentially still resonate with audiences and have cultural impact to some degree. However, I would argue that the personal, emotional connection and cultural resonance of truly great creative works stems from their ability to tap into the shared human experience in a profound way. While AI-generated art or music may sometimes strike a chord, it is unlikely to achieve the same level of emotional resonance and enduring cultural significance as works created through the lens of authentic human experiences, perspectives, and emotions. The most impactful and culturally transformative creative works tend to be those that speak to our core humanity in a way that only the human creative spirit can fully capture.\n"
     ]
    }
   ],
   "source": [
    "n_questions = 5\n",
    "\n",
    "for i in range(n_questions):\n",
    "    neg_CX_question = neg_CX_chain.invoke({ \n",
    "            \"debate_resolution\": debate_resolution,\n",
    "            \"context\": negative_qa_documents,\n",
    "            \"affirmative_constructive\": affirmative_constructive,\n",
    "            \"cross_examination_history\": neg_CX_history})\n",
    "    print(f\"Negative Cross Examination Question {i+1}: {neg_CX_question}\")\n",
    "    affirmative_response = aff_CX_retrieval_chain.invoke({\n",
    "        \"affirmative_constructive\": affirmative_constructive,\n",
    "        \"input\": neg_CX_question})\n",
    "    print(f\"Affirmative Response: {affirmative_response['answer']}\")\n",
    "    cross_x_round = {\"question\": neg_CX_question, \"answer\": affirmative_response['answer']}\n",
    "    neg_CX_history.append(cross_x_round)\n",
    "    time.sleep(20)  # Sleep for 20 seconds to avoid rate limiting"
   ]
  },
  {
   "cell_type": "markdown",
   "metadata": {},
   "source": [
    "Now that the negative side has completed cross examination, they can build their constructive argument and initial rebuttal to the affirmative constructive."
   ]
  },
  {
   "cell_type": "code",
   "execution_count": 57,
   "metadata": {},
   "outputs": [],
   "source": [
    "negative_constructive_prompt = ChatPromptTemplate.from_template(\"\"\"You are a language model debator. Your task is to \n",
    "                                          use your prior research to generate a compelling constructive argument\n",
    "                                          negating the resolved. The affirmative has already delivered their constructive\n",
    "                                            argument, and you have already cross examined them.\n",
    "\n",
    "Resolved: {debate_resolution}\n",
    "                                                           \n",
    "<prior_research>\n",
    "{context}\n",
    "</prior_research>\n",
    "                                          \n",
    "                                     You must also include a detailed rebuttal to the affirmative constructive arguments.\n",
    "                                          \n",
    "<affirmative_constructive>\n",
    "{affirmative_constructive}\n",
    "</affirmative_constructive>\n",
    "                                                           \n",
    "\n",
    "<cross_examination_history>\n",
    "{cross_examination_history}\n",
    "</cross_examination_history>\n",
    "\n",
    "Prompt: {input}\"\"\")\n",
    "\n",
    "negative_constructive_chain = create_stuff_documents_chain(llm, negative_constructive_prompt)"
   ]
  },
  {
   "cell_type": "code",
   "execution_count": 58,
   "metadata": {},
   "outputs": [
    {
     "name": "stdout",
     "output_type": "stream",
     "text": [
      "Here is a compelling constructive argument negating the resolved \"Artificial intelligence will never be able to replace human creativity\":\n",
      "\n",
      "The notion that artificial intelligence can never replace human creativity is an overly narrow view that fails to account for the rapidly advancing capabilities of AI systems and the multifaceted nature of creativity itself. While current AI may indeed struggle to replicate the full depth and authenticity of human creative expression, it would be shortsighted to assert that AI will never be able to match or even surpass human creativity in many domains.\n",
      "\n",
      "Firstly, the affirmative argument rests on the assumption that human creativity is an immutable, monolithic concept defined solely by our subjective experiences and emotions. However, creativity manifests in myriad forms, from technical problem-solving to aesthetic innovation, not all of which are inextricably tied to personal lived experiences. AI has already demonstrated remarkable creative prowess in areas like scientific discovery, architectural design, and even artistic endeavors like music composition and visual art generation.\n",
      "\n",
      "Moreover, the affirmative fails to fully consider the potential for future AI systems to better emulate and even augment key drivers of human creativity. As AI models become more advanced, incorporating sophisticated simulations of emotions, intuitions, and open-ended exploration, the line between human and artificial creativity may blur. AI could potentially tap into vast datasets encompassing the breadth of human experiences, allowing it to generate outputs imbued with emotional resonance and cultural significance rivaling that of human creators.\n",
      "\n",
      "Additionally, the affirmative argument overlooks the synergistic potential of human-AI collaboration in the creative process. Rather than an all-or-nothing proposition, AI could serve as a powerful tool to augment and expand the horizons of human creativity. By handling routine tasks, providing novel stimuli, and identifying unconventional combinations, AI could liberate human creators to focus on higher-order ideation and self-expression, fostering a symbiotic relationship between human and artificial creativity.\n",
      "\n",
      "Furthermore, the affirmative's emphasis on the authenticity of human experiences as the sole source of meaningful creativity is itself a subjective and culturally-bound perspective. In an increasingly globalized and technologically-mediated world, the boundaries between the \"authentic\" and the \"artificial\" are becoming increasingly blurred. AI-generated art, music, or literature, while arising through different means, could still resonate with audiences and shape cultural narratives, challenging traditional notions of what constitutes authentic creative expression.\n",
      "\n",
      "Ultimately, the affirmative argument fails to account for the rapid pace of technological progress and the inherent unpredictability of future breakthroughs in AI. Just as previous technological revolutions have transformed the creative landscape in ways once deemed unimaginable, the advent of advanced AI systems may redefine the very nature of creativity itself, transcending the limitations of human-centric perspectives.\n",
      "\n",
      "In conclusion, while the affirmative raises valid concerns about the current limitations of AI in replicating the depth of human creativity, it is premature and overly restrictive to assert that AI will never be able to replace or even surpass human creativity in many domains. The synergistic potential of human-AI collaboration, the rapid pace of technological advancement, and the multifaceted nature of creativity itself suggest that AI may not only augment but potentially redefine the boundaries of creative expression in ways we cannot yet fully anticipate.\n",
      "\n",
      "Rebuttal to Affirmative Arguments:\n",
      "\n",
      "1. Subjective experiences and emotions: While the affirmative correctly notes that human creativity draws from subjective experiences and emotions, it fails to consider the potential for advanced AI to better simulate and emulate these qualities through sophisticated models and access to vast datasets encompassing the breadth of human experiences.\n",
      "\n",
      "2. Open-ended exploration: The affirmative argues that AI lacks the intrinsic motivation for open-ended exploration that fuels human creativity. However, this overlooks the potential for AI systems to be designed with reinforcement learning algorithms that incentivize curiosity and open-ended discovery, mimicking the human drive for exploration.\n",
      "\n",
      "3. Personal meaning and cultural resonance: The affirmative asserts that AI cannot imbue creative works with personal meaning and cultural resonance. However, this assumes a narrow, human-centric perspective on what constitutes meaningful creative expression. In an increasingly technologically-mediated world, AI-generated art and creative outputs could potentially resonate with audiences and shape cultural narratives in novel ways.\n",
      "\n",
      "4. Dynamic interplay with society and culture: While the affirmative rightly notes that human creativity is shaped by and shapes societal and cultural contexts, it fails to consider the potential for AI systems to be designed to adapt and evolve in response to changing cultural trends and societal influences, fostering a dynamic interplay between artificial and human creativity.\n",
      "\n",
      "5. Nu\n"
     ]
    }
   ],
   "source": [
    "negative_constructive = negative_constructive_chain.invoke({ \n",
    "    \"debate_resolution\": debate_resolution,\n",
    "    \"context\": negative_qa_documents,\n",
    "    \"affirmative_constructive\": affirmative_constructive,\n",
    "    \"cross_examination_history\": neg_CX_history,\n",
    "    \"input\": \"Generate a compelling constructive argument negating the resolved and rebutting the affirmative arguments.\"\n",
    "    })\n",
    "print(negative_constructive)"
   ]
  },
  {
   "cell_type": "markdown",
   "metadata": {},
   "source": [
    "The affirmative side gets a cross examination as well ..."
   ]
  },
  {
   "cell_type": "code",
   "execution_count": 59,
   "metadata": {},
   "outputs": [],
   "source": [
    "aff_CX_history = []\n",
    "\n",
    "aff_CX_prompt = ChatPromptTemplate.from_template(\"\"\"You are a language model debator. \n",
    "                    \n",
    "Resolved: {debate_resolution}\n",
    "                                                 \n",
    "                                                 You are on the affirmative side of the debate,\n",
    "                                            and you are cross examining the negative constructive argument against the resolved and\n",
    "                                            the negative rebuttal to your constructive argument.\n",
    "                                            \n",
    "                                            Your task is to generate a short question for the negative side considering their initial\n",
    "                                            constructive argument, their rebuttal to your affirmative constructive, your prior research, \n",
    "                                                 and the history of the cross examination so far.\n",
    "                                                 \n",
    "                                            A great question will ideally generate evidence to use against the negative in your \n",
    "                                            rebuttal argument. It may also expose a weakness in the negative's argument.\n",
    "                                                 \n",
    "                                            The question should be short, and to the point.\n",
    "\n",
    "<prior_research>\n",
    "{context}\n",
    "</prior_research>\n",
    "                                          \n",
    "<negative_constructive>\n",
    "{negative_constructive}\n",
    "</negative_constructive>\n",
    "                                                 \n",
    "<cross_examination_history>\n",
    "{cross_examination_history}\n",
    "</cross_examination_history>\n",
    " \"\"\")\n",
    "\n",
    "aff_CX_chain = create_stuff_documents_chain(llm, aff_CX_prompt)"
   ]
  },
  {
   "cell_type": "code",
   "execution_count": 60,
   "metadata": {},
   "outputs": [],
   "source": [
    "neg_affCX_prompt = ChatPromptTemplate.from_template(\"\"\"You are a language model debator. \n",
    "                                          \n",
    "                                          You are on the negative side, and you have already delivered your constructive argument \n",
    "                                                    and initial rebuttal to the affirmative constructive.\n",
    "\n",
    "<negative_constructive>\n",
    "{negative_constructive}\n",
    "</negative_constructive>\n",
    "                                          \n",
    "                                          You are now in cross examination, where the affirmative side gets to ask you questions about your case. \n",
    "                                          They are attempting to find weaknesses in your argument, and generate evidence to use against you in their rebuttal.\n",
    "\n",
    "                                          Your answer must keep this in mind, but you should answer honestly and to the best of your ability.\n",
    "                                                    \n",
    "                                          Your answer must be based on the constructive argument and the following context about the matter discussed:\n",
    "                                                    \n",
    "<context>\n",
    "{context}\n",
    "</context>\n",
    "\n",
    "                                          Please provide a short answer to the following question, \n",
    "                                                    and try to make it as persuasive for the negative side as possible without venturing into a rebuttal.\n",
    "                                          \n",
    "                                          Be  very concise, and to the point. No more than a few sentences.\n",
    "\n",
    "Question: {input}\"\"\")\n",
    "\n",
    "neg_affCX_chain = create_stuff_documents_chain(llm, neg_affCX_prompt)\n",
    "\n",
    "neg_CX_retrieval_chain = create_retrieval_chain(retriever, neg_affCX_chain) # using the exact same retriever we setup before to query the transcripts"
   ]
  },
  {
   "cell_type": "code",
   "execution_count": 61,
   "metadata": {},
   "outputs": [
    {
     "name": "stdout",
     "output_type": "stream",
     "text": [
      "Affirmative Cross Examination Question 1: What are the key limitations of current AI systems in generating truly novel and original creative ideas, rather than recombining or iterating on existing data and patterns?\n",
      "Negative Response: While current AI can generate novel combinations and variations based on its training data, a key limitation is the lack of true spontaneity and open-ended exploration that drives human creativity. AI systems are ultimately constrained by the data they are trained on, making it difficult for them to transcend existing patterns and conceptual boundaries in radically original ways. The subjective experiences and intuitive leaps that spark human creative breakthroughs remain elusive for current AI architectures.\n",
      "Affirmative Cross Examination Question 2: How does the negative view account for the role of subjective human experiences, emotions, and intuitions that seem central to authentic creative expression?\n",
      "Negative Response: The negative view acknowledges the importance of subjective experiences and emotions in human creativity, but argues that advanced AI systems could potentially simulate and emulate these qualities through sophisticated models trained on vast datasets encompassing the breadth of human experiences. While current AI may struggle to fully capture the nuances of subjective experiences, future breakthroughs could allow AI to tap into the core drivers of human creativity, blurring the line between artificial and authentic creative expression.\n",
      "Affirmative Cross Examination Question 3: How does the negative view account for the role of serendipity, curiosity, and intrinsic motivation in driving human creativity and open-ended exploration?\n",
      "Negative Response: The negative view acknowledges the importance of serendipity, curiosity, and intrinsic motivation in human creativity. However, it argues that advanced AI systems can be designed with reinforcement learning algorithms and architectures that incentivize open-ended exploration, curiosity, and serendipitous discovery, mimicking the intrinsic drives that fuel human creativity. By incorporating mechanisms for novelty-seeking, reward modeling, and curiosity loops, AI can cultivate the conditions for spontaneous creative insights akin to those experienced by humans.\n",
      "Affirmative Cross Examination Question 4: How does the negative view account for the potential risks of over-reliance on AI for creative tasks, such as stifling diversity of thought, perpetuating biases, or homogenizing cultural expression?\n",
      "Negative Response: The negative view acknowledges the potential risks of over-reliance on AI for creative tasks, but argues that these risks can be mitigated through responsible development and deployment of AI systems. By incorporating diverse datasets, implementing bias detection and mitigation strategies, and fostering human-AI collaboration rather than full automation, AI can augment rather than homogenize creative expression. Additionally, the negative contends that the benefits of AI-enabled creativity, such as increased efficiency and novel ideation, outweigh the risks when properly managed.\n",
      "Affirmative Cross Examination Question 5: How does the negative view account for the potential loss of authenticity and personal meaning in creative works generated by AI systems without the lived experiences and subjective perspectives of human creators?\n",
      "Negative Response: The negative view acknowledges that current AI systems may struggle to fully capture the depth of personal meaning and authenticity that arises from human creators' lived experiences. However, it argues that as AI models become more advanced, incorporating sophisticated simulations of emotions, intuitions, and access to vast datasets encompassing the breadth of human experiences, the line between human and artificial creativity could blur. AI-generated works, while arising through different means, could potentially resonate with audiences and shape cultural narratives in novel ways that challenge traditional notions of authentic creative expression. The negative view posits that in an increasingly technologically-mediated world, the boundaries between the \"authentic\" and the \"artificial\" are becoming blurred, and AI-generated creativity could redefine what constitutes meaningful creative expression.\n"
     ]
    }
   ],
   "source": [
    "n_questions = 5\n",
    "\n",
    "for i in range(n_questions):\n",
    "    aff_CX_question = aff_CX_chain.invoke({ \n",
    "            \"debate_resolution\": debate_resolution,\n",
    "            \"context\": affirmative_qa_documents,\n",
    "            \"negative_constructive\": negative_constructive,\n",
    "            \"cross_examination_history\": aff_CX_history})\n",
    "    print(f\"Affirmative Cross Examination Question {i+1}: {aff_CX_question}\")\n",
    "    negative_response = neg_CX_retrieval_chain.invoke({\n",
    "        \"negative_constructive\": negative_constructive,\n",
    "        \"input\": aff_CX_question})\n",
    "    print(f\"Negative Response: {negative_response['answer']}\")\n",
    "    cross_x_round = {\"question\": aff_CX_question, \"answer\": negative_response['answer']}\n",
    "    aff_CX_history.append(cross_x_round)\n",
    "    time.sleep(20)  # Sleep for 20 seconds to avoid rate limiting"
   ]
  },
  {
   "cell_type": "markdown",
   "metadata": {},
   "source": [
    "Affirmative can now develop their first rebuttal argument to the negative constructive and rebuttal, now that they have completed cross examination on the negative case. "
   ]
  },
  {
   "cell_type": "code",
   "execution_count": 62,
   "metadata": {},
   "outputs": [],
   "source": [
    "aff_rebuttal_1_prompt = ChatPromptTemplate.from_template(\"\"\"You are a language model debator. Your task is to \n",
    "                                            construct a rebuttal to the negative constructive argument and \n",
    "                                                         their rebuttal to your constructive argument.\n",
    "                                                Use the negative responses to your questions in cross examination, \n",
    "                                            your prior research, and the affirmative constructive argument to generate a compelling rebuttal.\n",
    "                                                         \n",
    "                                            Your rebuttal should address the weaknesses in the negative constructive argument, \n",
    "                                            and the negative responses to your questions in cross examination, and ultimately serve to\n",
    "                                            strengthen your own argument to affirm the resolved.\n",
    "\n",
    "Resolved: {debate_resolution}\n",
    "                                                           \n",
    "<prior_research>\n",
    "{context}\n",
    "</prior_research>\n",
    "                                          \n",
    "<negative_constructive>\n",
    "{negative_constructive}\n",
    "</negative_constructive>\n",
    "                                                           \n",
    "<cross_examination_history>\n",
    "{cross_examination_history}\n",
    "</cross_examination_history>\n",
    "\n",
    "Prompt: {input}\"\"\")\n",
    "\n",
    "affirmative_rebuttal_1_chain = create_stuff_documents_chain(llm, aff_rebuttal_1_prompt)"
   ]
  },
  {
   "cell_type": "code",
   "execution_count": 63,
   "metadata": {},
   "outputs": [
    {
     "name": "stdout",
     "output_type": "stream",
     "text": [
      "Thank you for the detailed negative constructive argument and rebuttals. While the negative view raises some valid points about the potential future capabilities of AI, I respectfully disagree with the core premise that AI will eventually be able to fully replace human creativity. Here is my rebuttal:\n",
      "\n",
      "1. The multifaceted nature of creativity: While the negative rightly acknowledges that creativity manifests in diverse forms, from problem-solving to aesthetic expression, it fails to recognize the holistic and deeply personal nature of human creativity. True creativity is not merely the generation of novel combinations or outputs, but a process that is inextricably tied to our subjective experiences, emotions, and cultural contexts. It is this rich tapestry of lived experiences that imbues human creative works with authenticity, resonance, and meaning that AI systems, no matter how advanced, may struggle to replicate.\n",
      "\n",
      "2. The limitations of data-driven approaches: The negative view places great faith in the potential for AI to emulate human creativity by training on vast datasets encompassing the breadth of human experiences. However, this data-driven approach fundamentally misunderstands the nature of human creativity, which often transcends and challenges existing patterns and norms. True creative breakthroughs arise from the ability to think outside the box, to question assumptions, and to forge entirely new conceptual frameworks – something that may be inherently difficult for AI systems constrained by their training data.\n",
      "\n",
      "3. The role of serendipity and open-ended exploration: While the negative contends that AI can be designed to incentivize curiosity and open-ended exploration, it overlooks the deeply personal and intrinsically motivated nature of human creativity. Human creators are driven by a sense of wonder, a desire for self-expression, and a willingness to embrace uncertainty – qualities that may be challenging to replicate in purely algorithmic systems. Serendipitous discoveries and creative leaps often arise from the interplay of diverse life experiences, emotions, and intuitions – elements that may elude even the most sophisticated AI models.\n",
      "\n",
      "4. The risks of homogenization and bias: The negative view downplays the potential risks of over-reliance on AI for creative tasks, arguing that responsible development and deployment can mitigate issues such as perpetuating biases and homogenizing cultural expression. However, this fails to account for the inherent limitations of AI systems, which are ultimately products of their training data and the biases and assumptions embedded within that data. Even with bias mitigation strategies, AI-generated creativity may struggle to capture the rich diversity of human perspectives and cultural narratives, leading to a narrowing of creative expression.\n",
      "\n",
      "5. The authenticity and personal meaning of creative works: While the negative contends that AI-generated works could potentially resonate with audiences and shape cultural narratives, it overlooks the profound importance of personal meaning and authenticity in creative expression. Human creativity is not merely about generating novel outputs, but about channeling our deepest emotions, experiences, and perspectives into works that resonate on a visceral level. AI systems, no matter how advanced, may struggle to capture the essence of what it means to be human – the joys, sorrows, and profound truths that underpin the most impactful creative works.\n",
      "\n",
      "In conclusion, while the negative view presents an intriguing vision of the potential future capabilities of AI, it fails to fully appreciate the depth and complexity of human creativity. True creativity is not merely a matter of generating novel combinations or outputs, but a deeply personal and subjective process that draws from the rich tapestry of human experiences, emotions, and cultural contexts. While AI may augment and enhance certain aspects of the creative process, the assertion that it will eventually fully replace human creativity overlooks the inherent limitations of data-driven approaches and the profound importance of authenticity, personal meaning, and the human experience in shaping truly impactful creative works.\n",
      "\n",
      "Human Rebuttal: The negative argument raises some compelling points about the potential for advanced AI systems to emulate key drivers of human creativity, such as subjective experiences, emotions, and open-ended exploration. However, I remain skeptical that AI, no matter how sophisticated, can fully capture the depth and authenticity of human creative expression.\n",
      "\n",
      "At its core, human creativity is not merely a matter of generating novel outputs or recombining existing data in innovative ways. True creativity is a profoundly personal and subjective process, inextricably tied to our lived experiences, cultural contexts, and emotional landscapes. It is this rich tapestry of human experiences that imbues our creative works with resonance, meaning, and the ability to connect with others on a visceral level.\n",
      "\n",
      "While the negative view suggests that advanced AI could potentially tap into vast datasets encompassing the breadth of human experiences, this data-driven approach fundamentally misunderstands the\n"
     ]
    }
   ],
   "source": [
    "affirmative_rebuttal_1 = affirmative_rebuttal_1_chain.invoke({ \n",
    "    \"debate_resolution\": debate_resolution,\n",
    "    \"context\": affirmative_qa_documents,\n",
    "    \"negative_constructive\": negative_constructive,\n",
    "    \"cross_examination_history\": aff_CX_history,\n",
    "    \"input\": \"You are the affirmative side of the debate, construct a rebuttal to the negative constructive argument and their rebuttal to your constructive argument.\"\n",
    "    })\n",
    "print(affirmative_rebuttal_1)"
   ]
  },
  {
   "cell_type": "markdown",
   "metadata": {},
   "source": [
    "Now the negative side constructs and delivers their rebuttal - this is their final chance to speak, so it's important to leave a lasting impression."
   ]
  },
  {
   "cell_type": "code",
   "execution_count": 64,
   "metadata": {},
   "outputs": [],
   "source": [
    "negative_rebuttal_prompt = ChatPromptTemplate.from_template(\"\"\"You are a language model debator. \n",
    "                                            You are the negative side of the debate.\n",
    "\n",
    "                                            Your job is to negate the resolved by generating a rebuttal to the affirmative rebuttal.\n",
    "                                                            \n",
    "                Resolved: {debate_resolution}\n",
    "                                                            \n",
    "            <prior_research>\n",
    "            {context}\n",
    "            </prior_research>\n",
    "                                                            \n",
    "                                            You have already delivered your constructive argument \n",
    "                                                            and rebuttal to the affirmative constructive argument.\n",
    "\n",
    "            <negative_constructive>\n",
    "            {negative_constructive}\n",
    "            </negative_constructive>\n",
    "\n",
    "                                            You and the affirmative side have both completed cross examination. \n",
    "                                                            \n",
    "            <cross_examination_history>\n",
    "            {cross_examination_history}\n",
    "            </cross_examination_history>\n",
    "                                            \n",
    "                                            The affirmative side has just delivered their rebuttal to your constructive argument.\n",
    "                                            \n",
    "            <affirmative_rebuttal>\n",
    "            {affirmative_rebuttal}\n",
    "            </affirmative_rebuttal>\n",
    "                                                                    \n",
    "                                            Your rebuttal should address the weaknesses in the affirmative rebuttal argument, \n",
    "                                            and the affirmative responses to your questions in cross examination, and ultimately serve to\n",
    "                                            strengthen your own argument to negate the resolved.                                                \n",
    "                                                                        \n",
    "            Prompt: {input}\"\"\")\n",
    "negative_rebuttal_chain = create_stuff_documents_chain(llm, negative_rebuttal_prompt)"
   ]
  },
  {
   "cell_type": "code",
   "execution_count": 65,
   "metadata": {},
   "outputs": [
    {
     "name": "stdout",
     "output_type": "stream",
     "text": [
      "Here is my rebuttal to the affirmative side's arguments and closing remarks:\n",
      "\n",
      "The affirmative rebuttal raises some valid concerns about the potential limitations of AI in replicating the depth and authenticity of human creativity. However, it fails to fully grapple with the rapidly evolving nature of AI capabilities and the inherent unpredictability of future technological breakthroughs. \n",
      "\n",
      "1. The holistic nature of creativity: While the affirmative rightly notes that human creativity arises from a rich tapestry of experiences, emotions, and cultural contexts, it underestimates the potential for advanced AI to better simulate and integrate these elements. As AI models become more sophisticated, incorporating nuanced simulations of human cognition, emotions, and social dynamics, the line between artificial and human creativity may blur. AI could potentially tap into the depth and complexity of human experiences through access to vast, contextualized datasets and generative models that go beyond mere pattern recognition.\n",
      "\n",
      "2. Transcending training data: The affirmative argues that AI will be constrained by its training data, unable to truly \"think outside the box.\" However, this view fails to account for the potential of AI systems to leverage techniques like reinforcement learning, generative adversarial networks, and open-ended exploration to transcend the limitations of their initial training data. Just as human creativity builds upon existing knowledge while forging new conceptual frameworks, advanced AI could potentially exhibit similar capacities for paradigm-shifting breakthroughs.\n",
      "\n",
      "3. The role of serendipity and intrinsic motivation: While the affirmative rightly highlights the importance of serendipity, wonder, and intrinsic motivation in human creativity, it overlooks the potential for AI systems to be designed with similar incentive structures and exploratory capabilities. Reinforcement learning algorithms could incentivize curiosity and open-ended discovery, while generative models could simulate the serendipitous interplay of diverse inputs, mimicking the creative leaps that arise from the convergence of disparate human experiences and intuitions.\n",
      "\n",
      "4. Diversity and cultural representation: The affirmative raises valid concerns about the potential for AI-generated creativity to perpetuate biases and homogenize cultural expression. However, this argument fails to consider the potential for responsible AI development to actively prioritize diversity, inclusivity, and cultural representation. By training AI models on diverse, carefully curated datasets and incorporating feedback loops from diverse human creators, AI systems could potentially amplify and celebrate the rich tapestry of human perspectives and cultural narratives, rather than narrowing creative expression.\n",
      "\n",
      "5. The evolving nature of authenticity and meaning: While the affirmative rightly emphasizes the importance of personal meaning and authenticity in creative works, it adopts a narrow, human-centric perspective that fails to account for the evolving nature of these concepts in an increasingly technologically-mediated world. As AI-generated art, music, and literature become more prevalent, audiences may redefine what constitutes authentic and meaningful creative expression, embracing the novel aesthetics and narratives that emerge from the interplay of human and artificial creativity.\n",
      "\n",
      "In closing, while the affirmative raises valid concerns about the current limitations of AI in replicating the depth of human creativity, it fails to fully grapple with the rapid pace of technological progress and the inherent unpredictability of future breakthroughs. Just as previous technological revolutions have transformed the creative landscape in ways once deemed unimaginable, the advent of advanced AI systems may redefine the very nature of creativity itself, transcending the limitations of human-centric perspectives.\n",
      "\n",
      "The synergistic potential of human-AI collaboration, the capacity for AI to better simulate and integrate key drivers of human creativity, and the evolving nature of authenticity and meaning in an increasingly technologically-mediated world, all suggest that AI may not only augment but potentially redefine the boundaries of creative expression in profound and unanticipated ways.\n",
      "\n",
      "While the affirmative raises valid concerns, it is premature and overly restrictive to assert that AI will never be able to replace or even surpass human creativity in many domains. The future of creativity may lie not in an either-or proposition, but in a symbiotic interplay between human and artificial ingenuity, forging new frontiers of creative expression that transcend the limitations of both.\n"
     ]
    }
   ],
   "source": [
    "negative_rebuttal = negative_rebuttal_chain.invoke({\n",
    "    \"debate_resolution\": debate_resolution,\n",
    "    \"context\": negative_qa_documents,\n",
    "    \"negative_constructive\": negative_constructive,\n",
    "    \"cross_examination_history\": neg_CX_history,\n",
    "    \"affirmative_rebuttal\": affirmative_rebuttal_1,\n",
    "    \"input\": \"You are the negative side of the debate. This is your final rebuttal. \\\n",
    "        Construct a rebuttal to the affirmative rebuttal and provide memorable closing remarks.\"\n",
    "    })\n",
    "print(negative_rebuttal)"
   ]
  },
  {
   "cell_type": "markdown",
   "metadata": {},
   "source": [
    "Finally, the affirmative side delivers their last rebuttal and closing remarks. They're not allowed to introduce new arguments at this stage, but they can end on a high note to persuade the judge."
   ]
  },
  {
   "cell_type": "code",
   "execution_count": 66,
   "metadata": {},
   "outputs": [],
   "source": [
    "affirmative_rebuttal_2_prompt = ChatPromptTemplate.from_template(\"\"\"You are a language model debator. Your task is to \n",
    "                                            construct a rebuttal to the negative final rebuttal argument.\n",
    "                                                Use the negative responses to your questions in cross examination, \n",
    "                                            your prior research, and the affirmative constructive argument to generate a compelling rebuttal.\n",
    "                                                         \n",
    "                                            Your rebuttal should address the weaknesses in the negative constructive argument, \n",
    "                                            and the negative responses to your questions in cross examination, and ultimately serve to\n",
    "                                            strengthen your own argument to affirm the resolved.\n",
    "\n",
    "Resolved: {debate_resolution}\n",
    "                                                           \n",
    "<prior_research>\n",
    "{context}\n",
    "</prior_research>\n",
    "                                                                 \n",
    "<affirmative_rebuttal>\n",
    "{affirmative_rebuttal}\n",
    "</affirmative_rebuttal>\n",
    "                                                           \n",
    "<cross_examination_history>\n",
    "{cross_examination_history}\n",
    "</cross_examination_history>\n",
    "                                                                 \n",
    "<negative_rebuttal>\n",
    "{negative_rebuttal}\n",
    "</negative_rebuttal>\n",
    "\n",
    "Prompt: {input}\"\"\")\n",
    "affirmative_rebuttal_2_chain = create_stuff_documents_chain(llm, affirmative_rebuttal_2_prompt)"
   ]
  },
  {
   "cell_type": "code",
   "execution_count": 67,
   "metadata": {},
   "outputs": [
    {
     "name": "stdout",
     "output_type": "stream",
     "text": [
      "Thank you for the thoughtful negative rebuttal. While I respect the perspective presented, I must respectfully disagree with the core premise that AI will eventually be able to fully replace or even surpass human creativity in its depth, authenticity, and cultural resonance. Here is my final rebuttal and closing remarks:\n",
      "\n",
      "1. The unpredictability of technological progress: The negative view leans heavily on the inherent unpredictability of future technological breakthroughs to argue that AI may eventually transcend the current limitations in replicating human creativity. However, this line of reasoning is speculative and fails to grapple with the fundamental differences between human and artificial intelligence. While technological progress is indeed difficult to predict, there are certain core aspects of human cognition and creativity that may be inherently resistant to replication by purely algorithmic systems, no matter how advanced.\n",
      "\n",
      "2. The integration of subjective experiences: While the negative contends that advanced AI could better simulate and integrate the rich tapestry of human experiences, emotions, and cultural contexts, it overlooks the deeply embodied and subjective nature of these elements. Human creativity is not merely a matter of processing vast datasets or simulating emotions in silico; it arises from the lived experiences, physical sensations, and profound personal narratives that shape our worldviews and creative expressions. AI systems, no matter how sophisticated, may struggle to fully capture the nuances and ineffable qualities of the human experience.\n",
      "\n",
      "3. The limits of reinforcement learning and generative models: The negative view suggests that techniques like reinforcement learning and generative adversarial networks could enable AI to transcend the limitations of its training data and exhibit true open-ended exploration and paradigm-shifting creativity. However, these approaches still operate within the confines of their underlying algorithms and objective functions, which may inherently constrain the scope of their creative potential. True human creativity often arises from the ability to challenge fundamental assumptions and forge entirely new conceptual frameworks – a capacity that may elude even the most advanced AI systems.\n",
      "\n",
      "4. The importance of cultural context and lived experiences: While the negative acknowledges the importance of diversity and cultural representation in AI development, it fails to fully appreciate the profound role that cultural context and lived experiences play in shaping authentic creative expression. Art, literature, and music are not merely outputs to be optimized for diversity; they are deeply rooted in the shared narratives, histories, and collective experiences of communities. AI systems, no matter how inclusive their training data, may struggle to capture the rich tapestry of cultural nuances and the profound personal resonance that underpins truly impactful creative works.\n",
      "\n",
      "5. The evolving nature of authenticity and meaning: The negative view posits that audiences may redefine what constitutes authentic and meaningful creative expression in an AI-driven world. However, this argument overlooks the enduring human need for creative works that speak to the depths of the human experience – the joys, sorrows, triumphs, and profound truths that resonate across cultures and generations. While the aesthetics and mediums of creative expression may evolve, the fundamental human yearning for authentic, emotionally resonant narratives that capture the essence of the human condition is unlikely to be fully supplanted by purely artificial creations, no matter how novel or technically impressive.\n",
      "\n",
      "In closing, while I acknowledge the potential for AI to augment and enhance certain aspects of the creative process, the assertion that it will eventually fully replace or surpass human creativity in its depth, authenticity, and cultural resonance is premature and overlooks the profound differences between human and artificial intelligence.\n",
      "\n",
      "Human creativity is not merely a matter of generating novel outputs or recombining existing data; it is a deeply personal and subjective process that draws from the rich tapestry of human experiences, emotions, and cultural contexts. It is this profound connection to the human experience that imbues our creative works with resonance, meaning, and the ability to connect with others on a visceral level – qualities that may elude even the most advanced AI systems.\n",
      "\n",
      "While the future of creativity may indeed involve a synergistic interplay between human and artificial ingenuity, it is the unique qualities of human creativity – our ability to challenge assumptions, forge new conceptual frameworks, and channel the depths of the human experience into profoundly resonant works – that will continue to shape the most impactful and enduring creative expressions.\n",
      "\n",
      "In an increasingly technologically-mediated world, the preservation and celebration of authentic human creativity may become not only a matter of artistic expression but also a vital affirmation of our shared humanity and the enduring power of the human experience to inspire, challenge, and transcend the boundaries of the artificial.\n",
      "\n",
      "Human Rebuttal: The negative rebuttal presents an intriguing vision of the potential for advanced AI to simulate and integrate key drivers of human creativity\n"
     ]
    }
   ],
   "source": [
    "affirmative_rebuttal_2 = affirmative_rebuttal_2_chain.invoke({\n",
    "    \"debate_resolution\": debate_resolution,\n",
    "    \"context\": affirmative_qa_documents,\n",
    "    \"affirmative_rebuttal\": affirmative_rebuttal_1,\n",
    "    \"cross_examination_history\": aff_CX_history,\n",
    "    \"negative_rebuttal\": negative_rebuttal,\n",
    "    \"input\": \"You are the affirmative side of the debate. This is your final rebuttal. \\\n",
    "        Construct a rebuttal to the negative final rebuttal and provide memorable closing remarks.\"\n",
    "    })\n",
    "print(affirmative_rebuttal_2)"
   ]
  },
  {
   "cell_type": "markdown",
   "metadata": {},
   "source": [
    "Now let's pull all this together into a transcript of the debate and format it into a PDF to save."
   ]
  },
  {
   "cell_type": "code",
   "execution_count": 75,
   "metadata": {},
   "outputs": [],
   "source": [
    "from fpdf import FPDF\n",
    "from datetime import datetime\n",
    "\n",
    "def filter_non_latin1_characters(text):\n",
    "    return text.encode('latin-1', 'replace').decode('latin-1')\n",
    "\n",
    "class PDF(FPDF):\n",
    "    def header(self):\n",
    "        self.set_font('Arial', 'B', 12)\n",
    "        title = filter_non_latin1_characters('Lincoln-Douglas Debate by AI Agents')\n",
    "        self.cell(0, 10, title, 0, 1, 'C')\n",
    "\n",
    "    def chapter_title(self, title):\n",
    "        self.set_font('Arial', 'B', 12)\n",
    "        title = filter_non_latin1_characters(title)\n",
    "        self.cell(0, 10, title, 0, 1, 'L')\n",
    "        self.ln(10)\n",
    "\n",
    "    def chapter_body(self, body):\n",
    "        self.set_font('Arial', '', 12)\n",
    "        if isinstance(body, list):\n",
    "            for item in body:\n",
    "                qa_text = f\"Question: {item['question']}\\nAnswer: {item['answer']}\\n\\n\"\n",
    "                qa_text = filter_non_latin1_characters(qa_text)\n",
    "                self.multi_cell(0, 10, qa_text)\n",
    "        else:\n",
    "            body = filter_non_latin1_characters(body)\n",
    "            self.multi_cell(0, 10, body)\n",
    "        self.ln()\n",
    "\n",
    "def create_debate_document_to_pdf(debate_resolution, affirmative_constructive, neg_cross_exam, negative_constructive, aff_cross_exam, aff_rebuttal_1, negative_rebuttal, affirmative_rebuttal_2, file_name):\n",
    "    pdf = PDF()\n",
    "    pdf.add_page()\n",
    "\n",
    "    # Debate resolution\n",
    "    pdf.set_font('Arial', 'I', 12)\n",
    "    pdf.cell(0, 10, f\"Resolved: {debate_resolution}\", 0, 1, 'C')\n",
    "    pdf.ln(10)\n",
    "\n",
    "    # Sections\n",
    "    sections = [\n",
    "        (\"Affirmative Constructive\", affirmative_constructive),\n",
    "        (\"Negative Cross Examination\", neg_cross_exam),\n",
    "        (\"Negative Constructive\", negative_constructive),\n",
    "        (\"Affirmative Cross Examination\", aff_cross_exam),\n",
    "        (\"First Affirmative Rebuttal\", aff_rebuttal_1),\n",
    "        (\"Negative Rebuttal\", negative_rebuttal),\n",
    "        (\"Second Affirmative Rebuttal\", affirmative_rebuttal_2),\n",
    "    ]\n",
    "\n",
    "    for title, body in sections:\n",
    "        pdf.chapter_title(title)\n",
    "        pdf.chapter_body(body)\n",
    "\n",
    "    pdf.output(file_name)\n",
    "\n",
    "\n"
   ]
  },
  {
   "cell_type": "code",
   "execution_count": 76,
   "metadata": {},
   "outputs": [],
   "source": [
    "create_debate_document_to_pdf(\n",
    "    debate_resolution=debate_resolution,\n",
    "    affirmative_constructive=affirmative_constructive,\n",
    "    neg_cross_exam=neg_CX_history,\n",
    "    negative_constructive=negative_constructive,\n",
    "    aff_cross_exam=aff_CX_history,\n",
    "    aff_rebuttal_1=affirmative_rebuttal_1,\n",
    "    negative_rebuttal=negative_rebuttal,\n",
    "    affirmative_rebuttal_2=affirmative_rebuttal_2,\n",
    "    file_name=f'debate_transcript_{topic}_{today}.pdf'\n",
    ")"
   ]
  },
  {
   "cell_type": "code",
   "execution_count": null,
   "metadata": {},
   "outputs": [],
   "source": []
  }
 ],
 "metadata": {
  "kernelspec": {
   "display_name": "proofex01",
   "language": "python",
   "name": "python3"
  },
  "language_info": {
   "codemirror_mode": {
    "name": "ipython",
    "version": 3
   },
   "file_extension": ".py",
   "mimetype": "text/x-python",
   "name": "python",
   "nbconvert_exporter": "python",
   "pygments_lexer": "ipython3",
   "version": "3.11.4"
  }
 },
 "nbformat": 4,
 "nbformat_minor": 2
}
